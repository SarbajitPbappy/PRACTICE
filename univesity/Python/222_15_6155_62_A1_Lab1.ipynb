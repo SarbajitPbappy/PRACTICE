{
  "nbformat": 4,
  "nbformat_minor": 0,
  "metadata": {
    "colab": {
      "provenance": []
    },
    "kernelspec": {
      "name": "python3",
      "display_name": "Python 3"
    },
    "language_info": {
      "name": "python"
    }
  },
  "cells": [
    {
      "cell_type": "markdown",
      "source": [
        "## Problem 1"
      ],
      "metadata": {
        "id": "iuS71aFkfAUn"
      }
    },
    {
      "cell_type": "code",
      "execution_count": 18,
      "metadata": {
        "colab": {
          "base_uri": "https://localhost:8080/"
        },
        "id": "m6OWZng8co89",
        "outputId": "ad227bcb-03d4-4ebc-f036-84b5c05e1f6b"
      },
      "outputs": [
        {
          "output_type": "stream",
          "name": "stdout",
          "text": [
            "Information Number: 3\n",
            "Enter information 1: Daffodil\n",
            "Enter information 2: International\n",
            "Enter information 3: University\n",
            "['Daffodil', 'International', 'University']\n",
            "{'a': 3, 'd': 2, 'e': 2, 'f': 2, 'i': 5, 'l': 2, 'n': 4, 'o': 2, 'r': 2, 's': 1, 't': 3, 'u': 1, 'v': 1, 'y': 1}\n"
          ]
        }
      ],
      "source": [
        "def c(word):\n",
        "    letter_c = {}\n",
        "    for letter in word:\n",
        "        if letter in letter_c:\n",
        "            letter_c[letter.lower()] += 1\n",
        "        else:\n",
        "            letter_c[letter.lower()] = 1\n",
        "    return letter_c\n",
        "words = []\n",
        "n = int(input(\"Information Number: \"))\n",
        "i=1\n",
        "while i<=n:\n",
        "    word = input(f\"Enter information {i}: \")\n",
        "    words.append(word)\n",
        "    i+=1\n",
        "words_c = {}\n",
        "for word in words:\n",
        "    word_c = c(word)\n",
        "    for letter, count in word_c.items():\n",
        "        if letter in words_c:\n",
        "            words_c[letter] += count\n",
        "        else:\n",
        "            words_c[letter] = count\n",
        "print(words)\n",
        "result=dict(sorted(words_c.items()))\n",
        "print(result)"
      ]
    },
    {
      "cell_type": "markdown",
      "source": [
        "## Problem 2"
      ],
      "metadata": {
        "id": "WOAq9DOCfEge"
      }
    },
    {
      "cell_type": "code",
      "source": [
        "def encode(name):\n",
        "    letter_values = {'A': 1, 'B': 2, 'C': 3, 'D': 4, 'E': 5, 'F': 6, 'G': 7, 'H': 8, 'I': 9, 'J': 10, 'K': 11,\n",
        "                     'L': 12, 'M': 13, 'N': 14, 'O': 15, 'P': 16, 'Q': 17, 'R': 18, 'S': 19, 'T': 20, 'U': 21,\n",
        "                     'V': 22, 'W': 23, 'X': 24, 'Y': 25, 'Z': 26}\n",
        "    encoded_name = ''\n",
        "    for c in name:\n",
        "        value = letter_values.get(c.upper())\n",
        "        if value % 2 == 0:\n",
        "            encoded_name += c + '*'\n",
        "        else:\n",
        "            encoded_name += c\n",
        "    return encoded_name\n",
        "\n",
        "name = input()\n",
        "encoded_name = encode(name)\n",
        "print(encoded_name.upper())"
      ],
      "metadata": {
        "colab": {
          "base_uri": "https://localhost:8080/"
        },
        "id": "axwCNzCmfGTg",
        "outputId": "97926028-ec54-4e65-be5c-13c8a5ce6a35"
      },
      "execution_count": 1,
      "outputs": [
        {
          "output_type": "stream",
          "name": "stdout",
          "text": [
            "FAHIM\n",
            "F*AH*IM\n"
          ]
        }
      ]
    },
    {
      "cell_type": "code",
      "source": [],
      "metadata": {
        "id": "P9995ZvVhZtx"
      },
      "execution_count": null,
      "outputs": []
    }
  ]
}