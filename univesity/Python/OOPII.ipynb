{
  "cells": [
    {
      "cell_type": "code",
      "execution_count": null,
      "metadata": {
        "colab": {
          "base_uri": "https://localhost:8080/"
        },
        "id": "qT8FHzDOIGv1",
        "outputId": "8a7a7e32-acd1-4b71-ba35-31324d9a9895"
      },
      "outputs": [
        {
          "name": "stdout",
          "output_type": "stream",
          "text": [
            "Welcome To OOP Lab\n"
          ]
        }
      ],
      "source": [
        "print(\"Welcome To OOP Lab\")"
      ]
    },
    {
      "cell_type": "code",
      "execution_count": null,
      "metadata": {
        "colab": {
          "base_uri": "https://localhost:8080/"
        },
        "id": "pcKBja9sI2IY",
        "outputId": "03ab84c2-9359-4e2b-b95c-f29df4455a25"
      },
      "outputs": [
        {
          "name": "stdout",
          "output_type": "stream",
          "text": [
            "11\n",
            "I am oop\n"
          ]
        }
      ],
      "source": [
        "def oop():\n",
        "  print(\"I am oop\")\n",
        "def Sum(a,b):\n",
        "  return a+b\n",
        "\n",
        "#main Function\n",
        "print(Sum(5,6))\n",
        "oop()\n"
      ]
    },
    {
      "cell_type": "code",
      "execution_count": null,
      "metadata": {
        "colab": {
          "base_uri": "https://localhost:8080/"
        },
        "id": "e8-GIo8OJwKh",
        "outputId": "99215509-3d75-424f-9808-fdd95b75cdef"
      },
      "outputs": [
        {
          "name": "stdout",
          "output_type": "stream",
          "text": [
            "[3, 5, 7]\n"
          ]
        }
      ],
      "source": [
        "my_list = [1, 2, 3, 4, 5, 6, 7, 8, 9, 10]\n",
        "# my_slice = slice(2, 8, 2)\n",
        "result = my_list[2:8:2] # start:stop:step\n",
        "print(result)\n"
      ]
    },
    {
      "cell_type": "markdown",
      "metadata": {
        "id": "M-J6mtkRLkph"
      },
      "source": [
        "## List,Tupple,Dictonary,Set"
      ]
    },
    {
      "cell_type": "markdown",
      "metadata": {
        "id": "In2Y0iNgLrY4"
      },
      "source": [
        "# List\n",
        "*   Lists are ordered collections of elements.\n",
        "*   Lists are mutable, meaning you can change their elements after creation.\n",
        "*   Lists are defined using square brackets [].\n",
        "\n",
        "\n",
        "\n",
        "\n",
        "\n",
        "\n"
      ]
    },
    {
      "cell_type": "code",
      "execution_count": null,
      "metadata": {
        "id": "QTAfr93LNRM5"
      },
      "outputs": [],
      "source": [
        "my_list = [1, 2, 3, 4, 5]\n",
        "first_element = my_list[0] #Accessing Elements\n",
        "my_list[2] = 10 #Modifying Elements\n",
        "my_list.append(6) #Adding Elements\n",
        "my_list.remove(3) #Removing Elements\n",
        "sub_list = my_list[1:4] #Slicing"
      ]
    },
    {
      "cell_type": "markdown",
      "metadata": {
        "id": "jLxi_CGUMGVp"
      },
      "source": [
        "# Tupple\n",
        "1.   Tuples are ordered collections of elements.\n",
        "1.   Tuples are immutable, meaning you cannot change their elements after creation.\n",
        "3.   Tuples are defined using parentheses ().\n"
      ]
    },
    {
      "cell_type": "code",
      "execution_count": 26,
      "metadata": {
        "id": "0RGiCU5MNnKY"
      },
      "outputs": [
        {
          "name": "stdout",
          "output_type": "stream",
          "text": [
            "First element: 1\n",
            "Tuple unpacking: 1 2 3 4 5\n",
            "Length of the tuple: 5\n",
            "Is 3 in the tuple? True\n",
            "Concatenated tuple: (1, 2, 3, 4, 5, 6, 7, 8)\n",
            "Repeated tuple: (1, 2, 3, 4, 5, 1, 2, 3, 4, 5, 1, 2, 3, 4, 5)\n",
            "Sliced tuple: (2, 3, 4)\n",
            "Index of 3: 2\n",
            "Count of 4: 1\n"
          ]
        }
      ],
      "source": [
        "# Create a tuple\n",
        "my_tuple = (1, 2, 3, 4, 5)\n",
        "# Access an element\n",
        "first_element = my_tuple[0]\n",
        "# Tuple unpacking\n",
        "a, b, c, d, e = my_tuple\n",
        "# Length of the tuple\n",
        "length = len(my_tuple)\n",
        "# Check for existence\n",
        "exists = 3 in my_tuple\n",
        "# Concatenate tuples\n",
        "combined_tuple = my_tuple + (6, 7, 8)\n",
        "# Repeat a tuple\n",
        "repeated_tuple = my_tuple * 3\n",
        "# Slice a tuple\n",
        "sub_tuple = my_tuple[1:4]\n",
        "# Find the index of an element\n",
        "index = my_tuple.index(3)\n",
        "# Count occurrences\n",
        "count = my_tuple.count(4)\n",
        "# Print the results\n",
        "print(\"First element:\", first_element)\n",
        "print(\"Tuple unpacking:\", a, b, c, d, e)\n",
        "print(\"Length of the tuple:\", length)\n",
        "print(\"Is 3 in the tuple?\", exists)\n",
        "print(\"Concatenated tuple:\", combined_tuple)\n",
        "print(\"Repeated tuple:\", repeated_tuple)\n",
        "print(\"Sliced tuple:\", sub_tuple)\n",
        "print(\"Index of 3:\", index)\n",
        "print(\"Count of 4:\", count)"
      ]
    },
    {
      "cell_type": "markdown",
      "metadata": {
        "id": "K2P_OPF0Mbc5"
      },
      "source": [
        "# Dictonary\n",
        "1.   Dictionaries are collections of key-value pairs.\n",
        "2.   Dictionaries are unordered, and elements are accessed by keys rather than indices.\n",
        "3.   Dictionary keys must be unique and immutable (strings, numbers, or tuples).\n",
        "4.   Dictionaries are defined using curly braces {} or the dict() constructor.\n",
        "\n",
        "\n",
        "\n",
        "\n"
      ]
    },
    {
      "cell_type": "code",
      "execution_count": 27,
      "metadata": {
        "id": "f1LNkWC_NyaA"
      },
      "outputs": [
        {
          "name": "stdout",
          "output_type": "stream",
          "text": [
            "The 'name' key is present, and its value is 'Alice'.\n",
            "name Alice\n",
            "city New York\n"
          ]
        }
      ],
      "source": [
        "# Create a dictionary named my_dict with two key-value pairs.\n",
        "my_dict = {'name': 'Alice', 'age': 30}\n",
        "# Access the 'name' key to retrieve the value and store it in the variable 'name'.\n",
        "name = my_dict['name']\n",
        "# Add a new key-value pair ('city': 'New York') to the dictionary.\n",
        "my_dict['city'] = 'New York'\n",
        "# Delete the 'age' key-value pair from the dictionary.\n",
        "del my_dict['age']\n",
        "# Check if the 'name' key is present in the dictionary and do something if it is.\n",
        "if 'name' in my_dict:\n",
        "    print(f\"The 'name' key is present, and its value is '{my_dict['name']}'.\")\n",
        "# Iterate through the dictionary and print each key-value pair.\n",
        "for key, value in my_dict.items():\n",
        "    print(key, value)"
      ]
    },
    {
      "cell_type": "markdown",
      "metadata": {
        "id": "DFpI2qNoMsE5"
      },
      "source": [
        "# Set\n",
        "*   Sets are unordered collections of unique elements.\n",
        "*   Sets do not allow duplicate values.\n",
        "*   Sets are defined using curly braces {} or the set() constructor."
      ]
    },
    {
      "cell_type": "code",
      "execution_count": null,
      "metadata": {
        "id": "DO30BfWPLqcA"
      },
      "outputs": [],
      "source": [
        "my_set = {1, 2, 3, 4, 5}\n",
        "my_set.add(6) #Adding Elements\n",
        "my_set.remove(3) #Removing Elements\n",
        "set1 = {1, 2, 3}\n",
        "set2 = {3, 4, 5}\n",
        "#Set Operations (Union, Intersection, Difference)\n",
        "union_set = set1.union(set2)\n",
        "intersection_set = set1.intersection(set2)\n",
        "difference_set = set1.difference(set2)\n",
        "#Checking for Subset or Superset\n",
        "is_subset = set1.issubset(set2)\n",
        "is_superset = set1.issuperset(set2)"
      ]
    },
    {
      "cell_type": "markdown",
      "metadata": {
        "id": "tMVjF0tOPwzx"
      },
      "source": [
        "## Negative Indexing"
      ]
    },
    {
      "cell_type": "code",
      "execution_count": null,
      "metadata": {
        "colab": {
          "base_uri": "https://localhost:8080/"
        },
        "id": "ImWju2AZPylT",
        "outputId": "690235e3-b077-4255-8f2b-b10da39ebb6d"
      },
      "outputs": [
        {
          "name": "stdout",
          "output_type": "stream",
          "text": [
            "Last element: 50\n",
            "Second-to-last element: 40\n",
            "50 30 10 "
          ]
        }
      ],
      "source": [
        "my_list = [10, 20, 30, 40, 50]\n",
        "last_element = my_list[-1]        # Access the last element (50)\n",
        "second_last_element = my_list[-2]  # Access the second-to-last element (40)\n",
        "print(\"Last element:\", last_element)\n",
        "print(\"Second-to-last element:\", second_last_element)\n",
        "for i in range(len(my_list)-1,-1,-2):\n",
        "  print(my_list[i],end=' ')"
      ]
    },
    {
      "cell_type": "markdown",
      "metadata": {
        "id": "3sT8P5VQTRT5"
      },
      "source": [
        "## String\n"
      ]
    },
    {
      "cell_type": "code",
      "execution_count": 28,
      "metadata": {
        "colab": {
          "base_uri": "https://localhost:8080/"
        },
        "id": "0kW6XE_YP8cy",
        "outputId": "d517259e-977c-4194-8c6a-856ed28dbc88"
      },
      "outputs": [
        {
          "name": "stdout",
          "output_type": "stream",
          "text": [
            "Original String: Hello, World!\n",
            "Concatenated String: Hello, World! How are you?\n",
            "Repeated String: Hello, World!Hello, World!Hello, World!\n",
            "String Length: 13\n",
            "First Character: H\n",
            "Sliced Substring: World\n",
            "Lowercase String: hello, world!\n",
            "Uppercase String: HELLO, WORLD!\n",
            "Split String: ['Hello', ' World!']\n",
            "Stripped String: Spaces before and after\n",
            "Replaced String: Hello, Python!\n",
            "Formatted String: Hello, my name is Alice.\n",
            "Contains 'World'? True\n",
            "Joined String: Hello World\n",
            "Index of 'World': 7\n",
            "Count of 'l': 3\n"
          ]
        }
      ],
      "source": [
        "# Creating a String\n",
        "my_string = \"Hello, World!\"\n",
        "# Concatenation\n",
        "new_string = my_string + \" How are you?\"\n",
        "# String Repetition\n",
        "repeated_string = my_string * 3\n",
        "# String Length\n",
        "length = len(my_string)\n",
        "# Accessing Characters\n",
        "first_char = my_string[0]\n",
        "# Slicing\n",
        "sub_string = my_string[7:12]\n",
        "# String Case Conversion\n",
        "lowercase_string = my_string.lower()\n",
        "uppercase_string = my_string.upper()\n",
        "# String Splitting\n",
        "words = my_string.split(\",\")\n",
        "# String Stripping remove start and endl value (rstrip,lstrip)\n",
        "stripped_string = \"   Spaces before and after   \".strip()\n",
        "# String Replace\n",
        "replaced_string = my_string.replace(\"World\", \"Python\")\n",
        "# String Formatting\n",
        "name = \"Alice\"\n",
        "formatted_string = f\"Hello, my name is {name}.\"\n",
        "# Checking for Substrings\n",
        "contains_substring = \"World\" in my_string\n",
        "# String Joining\n",
        "my_list = [\"Hello\", \"World\"]\n",
        "joined_string = \" \".join(my_list)\n",
        "# String Index\n",
        "index = my_string.index(\"World\")\n",
        "# String Count\n",
        "count = my_string.count(\"l\")\n",
        "# Printing Results\n",
        "print(\"Original String:\", my_string)\n",
        "print(\"Concatenated String:\", new_string)\n",
        "print(\"Repeated String:\", repeated_string)\n",
        "print(\"String Length:\", length)\n",
        "print(\"First Character:\", first_char)\n",
        "print(\"Sliced Substring:\", sub_string)\n",
        "print(\"Lowercase String:\", lowercase_string)\n",
        "print(\"Uppercase String:\", uppercase_string)\n",
        "print(\"Split String:\", words)\n",
        "print(\"Stripped String:\", stripped_string)\n",
        "print(\"Replaced String:\", replaced_string)\n",
        "print(\"Formatted String:\", formatted_string)\n",
        "print(\"Contains 'World'?\", contains_substring)\n",
        "print(\"Joined String:\", joined_string)\n",
        "print(\"Index of 'World':\", index)\n",
        "print(\"Count of 'l':\", count)\n"
      ]
    },
    {
      "cell_type": "code",
      "execution_count": null,
      "metadata": {
        "colab": {
          "base_uri": "https://localhost:8080/"
        },
        "id": "pOW0P2h4UE5h",
        "outputId": "ca6f8daa-206e-4cf1-b785-a5a3af2b0f68"
      },
      "outputs": [
        {
          "name": "stdout",
          "output_type": "stream",
          "text": [
            "Maruf ===> p*tki\n"
          ]
        }
      ],
      "source": [
        "string = \"Maruf\"\n",
        "s = string.replace('M', 'p').replace('a', '*').replace('r', 't').replace('u', 'k').replace('f', 'i')\n",
        "print(f\"{string} ===> {s}\")"
      ]
    },
    {
      "cell_type": "code",
      "execution_count": null,
      "metadata": {
        "id": "TR2mOVggXeSQ"
      },
      "outputs": [],
      "source": [
        "st=\"Abroad\""
      ]
    },
    {
      "cell_type": "code",
      "execution_count": null,
      "metadata": {
        "id": "_8IzdTAkYEto"
      },
      "outputs": [],
      "source": [
        "lst = [2,4,2,6,8,10,10]\n",
        "# number = int(input())\n",
        "# lst=[int(num) for num in number.split()]\n",
        "# n = int(input())\n",
        "# for i in range(0, n):\n",
        "# \tele = int(input())\n",
        "# \tlst.append(ele)"
      ]
    },
    {
      "cell_type": "code",
      "execution_count": null,
      "metadata": {
        "colab": {
          "base_uri": "https://localhost:8080/"
        },
        "id": "PxV4Eh0bJEyo",
        "outputId": "ff2e58ae-f1a7-4a5d-ae9b-8a039e2be829"
      },
      "outputs": [
        {
          "name": "stdout",
          "output_type": "stream",
          "text": [
            "2 4 2 6 8 10 10\n"
          ]
        }
      ],
      "source": [
        "print(*lst)"
      ]
    },
    {
      "cell_type": "code",
      "execution_count": null,
      "metadata": {
        "colab": {
          "base_uri": "https://localhost:8080/"
        },
        "id": "rFeaBJ3QJcXH",
        "outputId": "5be8d232-051b-4b46-e2fa-f6c32b5b1783"
      },
      "outputs": [
        {
          "data": {
            "text/plain": [
              "2"
            ]
          },
          "execution_count": 28,
          "metadata": {},
          "output_type": "execute_result"
        }
      ],
      "source": [
        "lst.count(2)"
      ]
    },
    {
      "cell_type": "code",
      "execution_count": null,
      "metadata": {
        "colab": {
          "base_uri": "https://localhost:8080/"
        },
        "id": "xKyPyXkrNCwe",
        "outputId": "2a72696a-de54-46cb-a4aa-03dab14d95d9"
      },
      "outputs": [
        {
          "data": {
            "text/plain": [
              "2"
            ]
          },
          "execution_count": 29,
          "metadata": {},
          "output_type": "execute_result"
        }
      ],
      "source": [
        "lst.count(10)"
      ]
    },
    {
      "cell_type": "code",
      "execution_count": null,
      "metadata": {
        "id": "cY-vLQxZNFZ-"
      },
      "outputs": [],
      "source": [
        "lst.append(10)"
      ]
    },
    {
      "cell_type": "code",
      "execution_count": null,
      "metadata": {
        "colab": {
          "base_uri": "https://localhost:8080/"
        },
        "id": "ax2_DeffNHse",
        "outputId": "e7a1e080-4531-4d19-9dc8-25827a0dd7f3"
      },
      "outputs": [
        {
          "name": "stdout",
          "output_type": "stream",
          "text": [
            "2 4 2 6 8 10 10 10\n"
          ]
        }
      ],
      "source": [
        "print(*lst)"
      ]
    },
    {
      "cell_type": "code",
      "execution_count": null,
      "metadata": {
        "id": "NQZap6CENLPu"
      },
      "outputs": [],
      "source": [
        "lst.append((1,5))"
      ]
    },
    {
      "cell_type": "code",
      "execution_count": null,
      "metadata": {
        "id": "nk-vHpIzNTDu"
      },
      "outputs": [],
      "source": [
        "lst.extend([40,50])"
      ]
    },
    {
      "cell_type": "code",
      "execution_count": null,
      "metadata": {
        "colab": {
          "base_uri": "https://localhost:8080/"
        },
        "id": "alW_NH7QNqCH",
        "outputId": "dcca99a7-9936-4eca-9033-641d2e5e85a0"
      },
      "outputs": [
        {
          "name": "stdout",
          "output_type": "stream",
          "text": [
            "1 2 3 4 5 6 7 8 9 10 40 50\n"
          ]
        }
      ],
      "source": [
        "print(*lst)"
      ]
    },
    {
      "cell_type": "code",
      "execution_count": null,
      "metadata": {
        "id": "paRJ-r-uNvNP"
      },
      "outputs": [],
      "source": [
        "lst.insert(0,100)"
      ]
    },
    {
      "cell_type": "code",
      "execution_count": null,
      "metadata": {
        "colab": {
          "base_uri": "https://localhost:8080/"
        },
        "id": "_E3uqZ1_N0zv",
        "outputId": "8e781d67-db84-411a-bc64-d8612bf75625"
      },
      "outputs": [
        {
          "name": "stdout",
          "output_type": "stream",
          "text": [
            "100 2 4 2 6 8 10 10 10 (1, 5) 40 50\n"
          ]
        }
      ],
      "source": [
        "print(*lst)"
      ]
    },
    {
      "cell_type": "code",
      "execution_count": null,
      "metadata": {
        "colab": {
          "base_uri": "https://localhost:8080/"
        },
        "id": "aZNTgNnGN3C_",
        "outputId": "89cef0d3-65fb-4d02-b64b-7103fb2ef9d9"
      },
      "outputs": [
        {
          "data": {
            "text/plain": [
              "[50, 40, (1, 5), 10, 10, 10, 8, 6, 2, 4, 2, 100]"
            ]
          },
          "execution_count": 42,
          "metadata": {},
          "output_type": "execute_result"
        }
      ],
      "source": [
        "lst[::-1]"
      ]
    },
    {
      "cell_type": "code",
      "execution_count": null,
      "metadata": {
        "colab": {
          "base_uri": "https://localhost:8080/"
        },
        "id": "wG3Qpg1LN6a3",
        "outputId": "00c15fe9-9d2b-4334-ca4e-8d58308aa6c8"
      },
      "outputs": [
        {
          "data": {
            "text/plain": [
              "(1, 5)"
            ]
          },
          "execution_count": 44,
          "metadata": {},
          "output_type": "execute_result"
        }
      ],
      "source": [
        "lst.pop(9)"
      ]
    },
    {
      "cell_type": "code",
      "execution_count": null,
      "metadata": {
        "colab": {
          "base_uri": "https://localhost:8080/"
        },
        "id": "iE9b9VJcN-pO",
        "outputId": "669fd237-3f71-4ea5-bd4f-8d6111faecb0"
      },
      "outputs": [
        {
          "name": "stdout",
          "output_type": "stream",
          "text": [
            "100 2 4 2 6 8 10 10 10 40 50\n"
          ]
        }
      ],
      "source": [
        "print(*lst)"
      ]
    },
    {
      "cell_type": "code",
      "execution_count": null,
      "metadata": {
        "colab": {
          "base_uri": "https://localhost:8080/"
        },
        "id": "wPBhhvHpOOPH",
        "outputId": "827239e8-c51c-4bd1-fa75-55ef6900486f"
      },
      "outputs": [
        {
          "data": {
            "text/plain": [
              "11"
            ]
          },
          "execution_count": 48,
          "metadata": {},
          "output_type": "execute_result"
        }
      ],
      "source": [
        "len(lst)"
      ]
    },
    {
      "cell_type": "code",
      "execution_count": null,
      "metadata": {
        "colab": {
          "base_uri": "https://localhost:8080/"
        },
        "id": "KfRa46OyOdA-",
        "outputId": "4bd4def4-b0a5-4e43-b9ce-e98e31ec4cfd"
      },
      "outputs": [
        {
          "name": "stdout",
          "output_type": "stream",
          "text": [
            "Current stack: [5, 10, 15]\n",
            "Peek: 15\n",
            "Pop: 15\n",
            "Pop: 10\n",
            "Current stack: [5]\n",
            "Size of stack: 1\n"
          ]
        }
      ],
      "source": [
        "class Stack:\n",
        "    def __init__(self):\n",
        "        self.items = []\n",
        "\n",
        "    def is_empty(self):\n",
        "        return len(self.items) == 0\n",
        "\n",
        "    def push(self, item):\n",
        "        self.items.append(item)\n",
        "\n",
        "    def pop(self):\n",
        "        if not self.is_empty():\n",
        "            return self.items.pop()\n",
        "        else:\n",
        "            print(\"Stack is empty. Cannot pop.\")\n",
        "            return None\n",
        "\n",
        "    def peek(self):\n",
        "        if not self.is_empty():\n",
        "            return self.items[-1]\n",
        "        else:\n",
        "            print(\"Stack is empty. Cannot peek.\")\n",
        "            return None\n",
        "\n",
        "    def size(self):\n",
        "        return len(self.items)\n",
        "\n",
        "\n",
        "# Example usage:\n",
        "stack = Stack()\n",
        "\n",
        "stack.push(5)\n",
        "stack.push(10)\n",
        "stack.push(15)\n",
        "\n",
        "print(\"Current stack:\", stack.items)\n",
        "\n",
        "print(\"Peek:\", stack.peek())\n",
        "\n",
        "print(\"Pop:\", stack.pop())\n",
        "print(\"Pop:\", stack.pop())\n",
        "\n",
        "print(\"Current stack:\", stack.items)\n",
        "\n",
        "print(\"Size of stack:\", stack.size())\n"
      ]
    },
    {
      "cell_type": "code",
      "execution_count": null,
      "metadata": {
        "id": "v728YWlcWTJ_"
      },
      "outputs": [],
      "source": [
        "s=[]\n",
        "s.append(6)\n",
        "s.append(7)\n",
        "s.append(8)"
      ]
    },
    {
      "cell_type": "code",
      "execution_count": null,
      "metadata": {
        "colab": {
          "base_uri": "https://localhost:8080/"
        },
        "id": "foIpJyVDXHns",
        "outputId": "c89fd73a-9b90-491b-ddd8-6c96bfff080e"
      },
      "outputs": [
        {
          "data": {
            "text/plain": [
              "[6, 7, 8]"
            ]
          },
          "execution_count": 51,
          "metadata": {},
          "output_type": "execute_result"
        }
      ],
      "source": [
        "s"
      ]
    },
    {
      "cell_type": "code",
      "execution_count": null,
      "metadata": {
        "colab": {
          "base_uri": "https://localhost:8080/"
        },
        "id": "Pgc2pJHPXIZz",
        "outputId": "68f913aa-d5ff-4d1a-be00-55dd7ff20344"
      },
      "outputs": [
        {
          "name": "stdout",
          "output_type": "stream",
          "text": [
            "6 7 8\n"
          ]
        }
      ],
      "source": [
        "print(*s)"
      ]
    },
    {
      "cell_type": "code",
      "execution_count": null,
      "metadata": {
        "colab": {
          "base_uri": "https://localhost:8080/"
        },
        "id": "4kHjvibjXLE7",
        "outputId": "dee48325-bf10-4d55-ffc5-23e840a04320"
      },
      "outputs": [
        {
          "data": {
            "text/plain": [
              "8"
            ]
          },
          "execution_count": 53,
          "metadata": {},
          "output_type": "execute_result"
        }
      ],
      "source": [
        "s[-1]"
      ]
    },
    {
      "cell_type": "code",
      "execution_count": null,
      "metadata": {
        "id": "TsQy-ulZXRz7"
      },
      "outputs": [],
      "source": [
        "s.pop()\n",
        "if not s:\n",
        "  s[-1]"
      ]
    },
    {
      "cell_type": "code",
      "execution_count": null,
      "metadata": {
        "colab": {
          "base_uri": "https://localhost:8080/"
        },
        "id": "UkjQKN45Xnhu",
        "outputId": "f2e9c54a-77c7-4dd5-db61-cf1e608a903a"
      },
      "outputs": [
        {
          "data": {
            "text/plain": [
              "[6, 7]"
            ]
          },
          "execution_count": 55,
          "metadata": {},
          "output_type": "execute_result"
        }
      ],
      "source": [
        "s"
      ]
    },
    {
      "cell_type": "code",
      "execution_count": 29,
      "metadata": {
        "id": "QqWLXNOOXo39"
      },
      "outputs": [
        {
          "name": "stdout",
          "output_type": "stream",
          "text": [
            "[20, 40, 60, 80, 100]\n"
          ]
        }
      ],
      "source": [
        "score=[10,20,30,40,50]\n",
        "new_s=[]\n",
        "for x in score:\n",
        "  new_s.append(x*2)\n",
        "print(new_s)"
      ]
    },
    {
      "cell_type": "code",
      "execution_count": 30,
      "metadata": {
        "id": "r349HnahYroe"
      },
      "outputs": [],
      "source": [
        "s=[x*2 for x in score]"
      ]
    },
    {
      "cell_type": "code",
      "execution_count": 31,
      "metadata": {
        "colab": {
          "base_uri": "https://localhost:8080/"
        },
        "id": "9M241kFPY5BA",
        "outputId": "bcae1c83-0ab0-48bb-9270-3efea386a248"
      },
      "outputs": [
        {
          "name": "stdout",
          "output_type": "stream",
          "text": [
            "20 40 60 80 100\n"
          ]
        }
      ],
      "source": [
        "print(*s)"
      ]
    },
    {
      "cell_type": "code",
      "execution_count": 32,
      "metadata": {
        "id": "XbuSQH9tdAJz"
      },
      "outputs": [],
      "source": [
        "lst=[i**2 for i in range(1,10,2)]"
      ]
    },
    {
      "cell_type": "code",
      "execution_count": 33,
      "metadata": {
        "colab": {
          "base_uri": "https://localhost:8080/"
        },
        "id": "JNhednTYdZQ7",
        "outputId": "272b754f-f48e-4cf5-cc83-5aa4d034abac"
      },
      "outputs": [
        {
          "data": {
            "text/plain": [
              "[1, 9, 25, 49, 81]"
            ]
          },
          "execution_count": 33,
          "metadata": {},
          "output_type": "execute_result"
        }
      ],
      "source": [
        "lst"
      ]
    },
    {
      "cell_type": "code",
      "execution_count": 35,
      "metadata": {
        "colab": {
          "base_uri": "https://localhost:8080/"
        },
        "id": "IpA8lipOhwzy",
        "outputId": "fe75d32a-77ab-4734-957d-d844d2f04133"
      },
      "outputs": [
        {
          "data": {
            "text/plain": [
              "120"
            ]
          },
          "execution_count": 35,
          "metadata": {},
          "output_type": "execute_result"
        }
      ],
      "source": [
        "import sys\n",
        "sys.getsizeof(lst)"
      ]
    },
    {
      "cell_type": "code",
      "execution_count": null,
      "metadata": {
        "colab": {
          "base_uri": "https://localhost:8080/"
        },
        "id": "LaT01CqLddt4",
        "outputId": "c35ffe01-8078-446b-964d-a459f02c5bac"
      },
      "outputs": [
        {
          "name": "stdout",
          "output_type": "stream",
          "text": [
            "1 2 3 4 5\n"
          ]
        }
      ],
      "source": [
        "def generator(n):\n",
        "  for i in range (1,n+1):\n",
        "    yield i\n",
        "\n",
        "lst=list(generator(5))\n",
        "print(*lst)"
      ]
    },
    {
      "cell_type": "code",
      "execution_count": null,
      "metadata": {
        "id": "erWUi9yPgkHh"
      },
      "outputs": [],
      "source": [
        "import sys"
      ]
    },
    {
      "cell_type": "code",
      "execution_count": null,
      "metadata": {
        "colab": {
          "base_uri": "https://localhost:8080/"
        },
        "id": "NbE0z52chg7a",
        "outputId": "c6596de7-bedd-4e04-a4af-7cc2b8944ace"
      },
      "outputs": [
        {
          "data": {
            "text/plain": [
              "120"
            ]
          },
          "execution_count": 79,
          "metadata": {},
          "output_type": "execute_result"
        }
      ],
      "source": [
        "sys.getsizeof(lst)"
      ]
    },
    {
      "cell_type": "markdown",
      "metadata": {
        "id": "pHx9gnioSs5F"
      },
      "source": [
        "## Dictonary"
      ]
    },
    {
      "cell_type": "code",
      "execution_count": null,
      "metadata": {
        "colab": {
          "base_uri": "https://localhost:8080/"
        },
        "id": "4POJc_Sjhjei",
        "outputId": "154674b3-0361-48d9-9522-33fdcd05deef"
      },
      "outputs": [
        {
          "data": {
            "text/plain": [
              "{'brand': 'Ford', 'model': 'Mustang', 'year': 1964}"
            ]
          },
          "execution_count": 1,
          "metadata": {},
          "output_type": "execute_result"
        }
      ],
      "source": [
        "thisdict =\t{\n",
        "  \"brand\": \"Ford\",\n",
        "  \"model\": \"Mustang\",\n",
        "  \"year\": 1964\n",
        "}\n",
        "thisdict\n"
      ]
    },
    {
      "cell_type": "code",
      "execution_count": null,
      "metadata": {
        "colab": {
          "base_uri": "https://localhost:8080/"
        },
        "id": "LZfjnLruTGkf",
        "outputId": "ad2725e8-5b4d-4b67-c5b0-91e4fc4f049d"
      },
      "outputs": [
        {
          "name": "stdout",
          "output_type": "stream",
          "text": [
            "{\n",
            "  \"brand\": \"Ford\",\n",
            "  \"model\": \"Mustang\",\n",
            "  \"year\": 1999\n",
            "}\n"
          ]
        }
      ],
      "source": [
        "thisdict = {\n",
        "  \"brand\": \"Ford\",\n",
        "  \"model\": \"Mustang\",\n",
        "  \"year\": 1964,\n",
        "  \"year\": 1999\n",
        "}\n",
        "\n",
        "print(\"{\\n\" + \",\\n\".join(f'  \"{key}\": \"{value}\"' if isinstance(value, str) else f'  \"{key}\": {value}' for key, value in thisdict.items()) + \"\\n}\")\n"
      ]
    },
    {
      "cell_type": "code",
      "execution_count": null,
      "metadata": {
        "colab": {
          "base_uri": "https://localhost:8080/"
        },
        "id": "z4MFmzrITI-B",
        "outputId": "2dac6a0b-d362-4627-a128-f0ce7e1783e9"
      },
      "outputs": [
        {
          "name": "stdout",
          "output_type": "stream",
          "text": [
            "Ford\n"
          ]
        }
      ],
      "source": [
        "print(thisdict['brand'])"
      ]
    },
    {
      "cell_type": "code",
      "execution_count": null,
      "metadata": {
        "colab": {
          "base_uri": "https://localhost:8080/"
        },
        "id": "G6ApI2QmTRBN",
        "outputId": "a0c67781-c786-42fd-922d-97040cd3242d"
      },
      "outputs": [
        {
          "data": {
            "text/plain": [
              "3"
            ]
          },
          "execution_count": 6,
          "metadata": {},
          "output_type": "execute_result"
        }
      ],
      "source": [
        "len(thisdict)"
      ]
    },
    {
      "cell_type": "code",
      "execution_count": null,
      "metadata": {
        "id": "OqWGrLCQT1CI"
      },
      "outputs": [],
      "source": [
        "thisdict = {\n",
        "  \"brand\": \"Ford\",\n",
        "  \"model\": \"Mustang\",\n",
        "  \"year\": 1964,\n",
        "  \"Add\": [1999,\"hi\"],\n",
        "  \"hi\" : (5,5),\n",
        "  \"set\": {2,3}\n",
        "}"
      ]
    },
    {
      "cell_type": "code",
      "execution_count": null,
      "metadata": {
        "colab": {
          "base_uri": "https://localhost:8080/"
        },
        "id": "3bcSytx4UEet",
        "outputId": "943c704c-06e2-48c8-93d4-89c36319183d"
      },
      "outputs": [
        {
          "data": {
            "text/plain": [
              "{'brand': 'Ford',\n",
              " 'model': 'Mustang',\n",
              " 'year': 1964,\n",
              " 'Add': [1999, 'hi'],\n",
              " 'hi': (5, 5),\n",
              " 'set': {2, 3}}"
            ]
          },
          "execution_count": 12,
          "metadata": {},
          "output_type": "execute_result"
        }
      ],
      "source": [
        "thisdict"
      ]
    },
    {
      "cell_type": "code",
      "execution_count": null,
      "metadata": {
        "colab": {
          "base_uri": "https://localhost:8080/"
        },
        "id": "_GQ2OrNoUE41",
        "outputId": "20f95422-3bba-4277-c9d8-9490e8d378ff"
      },
      "outputs": [
        {
          "data": {
            "text/plain": [
              "{'name': 's', 'age': 23, 'color': 'white'}"
            ]
          },
          "execution_count": 13,
          "metadata": {},
          "output_type": "execute_result"
        }
      ],
      "source": [
        "dic=dict(name='s',age=23,color='white')\n",
        "dic"
      ]
    },
    {
      "cell_type": "code",
      "execution_count": null,
      "metadata": {
        "colab": {
          "base_uri": "https://localhost:8080/"
        },
        "id": "bGBLo8NtVInV",
        "outputId": "32f40767-f652-4f34-8d6a-786c88ee35d9"
      },
      "outputs": [
        {
          "name": "stdout",
          "output_type": "stream",
          "text": [
            "dict_keys(['brand', 'model', 'year'])\n",
            "dict_keys(['brand', 'model', 'year', 'color'])\n"
          ]
        }
      ],
      "source": [
        "car = {\n",
        "\"brand\": \"Ford\",\n",
        "\"model\": \"Mustang\",\n",
        "\"year\": 1964\n",
        "}\n",
        "\n",
        "x = car.keys()\n",
        "\n",
        "print(x)\n",
        "\n",
        "car[\"color\"] = \"white\"\n",
        "\n",
        "print(x)\n"
      ]
    },
    {
      "cell_type": "code",
      "execution_count": null,
      "metadata": {
        "colab": {
          "base_uri": "https://localhost:8080/"
        },
        "id": "08mY8iJpV69_",
        "outputId": "4ec8cba3-bc53-4294-cb89-15e825788203"
      },
      "outputs": [
        {
          "data": {
            "text/plain": [
              "dict_values(['Ford', 'Mustang', 1964, 'white'])"
            ]
          },
          "execution_count": 15,
          "metadata": {},
          "output_type": "execute_result"
        }
      ],
      "source": [
        "car.values()"
      ]
    },
    {
      "cell_type": "code",
      "execution_count": null,
      "metadata": {
        "colab": {
          "base_uri": "https://localhost:8080/"
        },
        "id": "5QdtM1FXV8Zt",
        "outputId": "7fa9e137-9b0d-40ff-ceee-43604bce74e8"
      },
      "outputs": [
        {
          "data": {
            "text/plain": [
              "dict_items([('brand', 'Ford'), ('model', 'Mustang'), ('year', 1964), ('color', 'white')])"
            ]
          },
          "execution_count": 19,
          "metadata": {},
          "output_type": "execute_result"
        }
      ],
      "source": [
        "car.items()"
      ]
    },
    {
      "cell_type": "code",
      "execution_count": null,
      "metadata": {
        "colab": {
          "base_uri": "https://localhost:8080/"
        },
        "id": "BMlxY-5iWET1",
        "outputId": "c5afdbd6-ac6b-4d0a-fa60-39b6d322b0eb"
      },
      "outputs": [
        {
          "name": "stdout",
          "output_type": "stream",
          "text": [
            "Yes\n"
          ]
        }
      ],
      "source": [
        "car = {\n",
        "  \"brand\": \"Ford\",\n",
        "  \"model\": \"Mustang\",\n",
        "  \"year\": 1964\n",
        "}\n",
        "if \"model\" in car:\n",
        "  print(\"Yes\")"
      ]
    },
    {
      "cell_type": "code",
      "execution_count": null,
      "metadata": {
        "colab": {
          "base_uri": "https://localhost:8080/"
        },
        "id": "8-a3D8TNWa0e",
        "outputId": "b0a1c978-cf21-4160-eb22-892818d205a7"
      },
      "outputs": [
        {
          "data": {
            "text/plain": [
              "dict_keys"
            ]
          },
          "execution_count": 23,
          "metadata": {},
          "output_type": "execute_result"
        }
      ],
      "source": [
        "type(car.keys())"
      ]
    },
    {
      "cell_type": "code",
      "execution_count": null,
      "metadata": {
        "id": "HAyPtLqQWnXV"
      },
      "outputs": [],
      "source": [
        "car = {\n",
        "  \"brand\": \"Ford\",\n",
        "  \"model\": \"Mustang\",\n",
        "  \"year\": 1964\n",
        "}\n",
        "car.update({\"year\": 2020})"
      ]
    },
    {
      "cell_type": "code",
      "execution_count": null,
      "metadata": {
        "colab": {
          "base_uri": "https://localhost:8080/"
        },
        "id": "nxHNPeosXEup",
        "outputId": "1cc6437d-151c-4012-aa50-dda8c62c8725"
      },
      "outputs": [
        {
          "data": {
            "text/plain": [
              "{'brand': 'Ford', 'model': 'Mustang', 'year': 2020}"
            ]
          },
          "execution_count": 25,
          "metadata": {},
          "output_type": "execute_result"
        }
      ],
      "source": [
        "car"
      ]
    },
    {
      "cell_type": "code",
      "execution_count": null,
      "metadata": {
        "id": "i3_su01bXFc9"
      },
      "outputs": [],
      "source": [
        "car = {\n",
        "  \"brand\": \"Ford\",\n",
        "  \"model\": \"Mustang\",\n",
        "  \"year\": 1964\n",
        "}\n",
        "car[\"year\"] = 2018"
      ]
    },
    {
      "cell_type": "code",
      "execution_count": null,
      "metadata": {
        "colab": {
          "base_uri": "https://localhost:8080/"
        },
        "id": "oEPdea46XLo2",
        "outputId": "9ac6b9fd-44b3-47b1-d57c-c8e3ace2a02f"
      },
      "outputs": [
        {
          "data": {
            "text/plain": [
              "{'brand': 'Ford', 'model': 'Mustang', 'year': 2018}"
            ]
          },
          "execution_count": 27,
          "metadata": {},
          "output_type": "execute_result"
        }
      ],
      "source": [
        "car"
      ]
    },
    {
      "cell_type": "code",
      "execution_count": null,
      "metadata": {
        "colab": {
          "base_uri": "https://localhost:8080/"
        },
        "id": "c_aW_equXMq2",
        "outputId": "dc0c3371-a43f-43fe-fc30-90fad7a40119"
      },
      "outputs": [
        {
          "data": {
            "text/plain": [
              "{'brand': 'Ford', 'model': 'Mustang', 'year': 1964, 'color': 'red'}"
            ]
          },
          "execution_count": 28,
          "metadata": {},
          "output_type": "execute_result"
        }
      ],
      "source": [
        "car = {\n",
        "  \"brand\": \"Ford\",\n",
        "  \"model\": \"Mustang\",\n",
        "  \"year\": 1964\n",
        "}\n",
        "car.update({\"color\": \"red\"})\n",
        "car"
      ]
    },
    {
      "cell_type": "code",
      "execution_count": null,
      "metadata": {
        "colab": {
          "base_uri": "https://localhost:8080/"
        },
        "id": "D5QsNkWZXXte",
        "outputId": "9b852206-3498-4ee4-beda-907f1f8275b4"
      },
      "outputs": [
        {
          "name": "stdout",
          "output_type": "stream",
          "text": [
            "{'brand': 'Ford', 'year': 1964}\n"
          ]
        }
      ],
      "source": [
        "car = {\n",
        "  \"brand\": \"Ford\",\n",
        "  \"model\": \"Mustang\",\n",
        "  \"year\": 1964\n",
        "}\n",
        "car.pop(\"model\")\n",
        "print(car)"
      ]
    },
    {
      "cell_type": "code",
      "execution_count": null,
      "metadata": {
        "colab": {
          "base_uri": "https://localhost:8080/"
        },
        "id": "X0Iy-RLzYH89",
        "outputId": "2c339b16-ea4c-4d7c-e732-7b909fa46f93"
      },
      "outputs": [
        {
          "name": "stdout",
          "output_type": "stream",
          "text": [
            "{'brand': 'Ford', 'model': 'Mustang'}\n"
          ]
        }
      ],
      "source": [
        "car = {\n",
        "  \"brand\": \"Ford\",\n",
        "  \"model\": \"Mustang\",\n",
        "  \"year\": 1964\n",
        "}\n",
        "car.popitem()\n",
        "print(car)"
      ]
    },
    {
      "cell_type": "code",
      "execution_count": null,
      "metadata": {
        "colab": {
          "base_uri": "https://localhost:8080/"
        },
        "id": "FQ7Ubh6GYVtG",
        "outputId": "d3b18686-0695-4e3c-bdaf-0daffacd2ce5"
      },
      "outputs": [
        {
          "name": "stdout",
          "output_type": "stream",
          "text": [
            "{'model': 'Mustang', 'year': 1964}\n"
          ]
        }
      ],
      "source": [
        "car = {\n",
        "  \"brand\": \"Ford\",\n",
        "  \"model\": \"Mustang\",\n",
        "  \"year\": 1964\n",
        "}\n",
        "del car['brand']\n",
        "print(car)"
      ]
    },
    {
      "cell_type": "code",
      "execution_count": null,
      "metadata": {
        "colab": {
          "base_uri": "https://localhost:8080/"
        },
        "id": "LTu8k72qYXy-",
        "outputId": "3801d88e-217e-49b2-a149-029d2ead30f2"
      },
      "outputs": [
        {
          "name": "stdout",
          "output_type": "stream",
          "text": [
            "{'brand': 'Ford', 'model': 'Mustang', 'year': 1964}\n"
          ]
        }
      ],
      "source": [
        "car = {\n",
        "  \"brand\": \"Ford\",\n",
        "  \"model\": \"Mustang\",\n",
        "  \"year\": 1964\n",
        "}\n",
        "print(car)"
      ]
    },
    {
      "cell_type": "code",
      "execution_count": null,
      "metadata": {
        "colab": {
          "base_uri": "https://localhost:8080/"
        },
        "id": "J0DXboWXYfl3",
        "outputId": "4993296f-de2d-4395-9bf2-91163b04111f"
      },
      "outputs": [
        {
          "name": "stdout",
          "output_type": "stream",
          "text": [
            "brand\n",
            "model\n",
            "year\n"
          ]
        }
      ],
      "source": [
        "for x in car:\n",
        "  print(x)"
      ]
    },
    {
      "cell_type": "code",
      "execution_count": null,
      "metadata": {
        "colab": {
          "base_uri": "https://localhost:8080/"
        },
        "id": "48PVHno5YtO2",
        "outputId": "5b0d858c-91d2-4252-9e93-22b700df2d02"
      },
      "outputs": [
        {
          "name": "stdout",
          "output_type": "stream",
          "text": [
            "brand => Ford\n",
            "model => Mustang\n",
            "year => 1964\n"
          ]
        }
      ],
      "source": [
        "for x in car:\n",
        "  print(x ,'=>' ,car[x])"
      ]
    },
    {
      "cell_type": "code",
      "execution_count": null,
      "metadata": {
        "colab": {
          "base_uri": "https://localhost:8080/"
        },
        "id": "9SDusT3VY7RV",
        "outputId": "4e7f36ec-fddd-4663-ba7b-687783b90763"
      },
      "outputs": [
        {
          "name": "stdout",
          "output_type": "stream",
          "text": [
            "brand Ford\n",
            "model Mustang\n",
            "year 1964\n"
          ]
        }
      ],
      "source": [
        "for x, y in car.items():\n",
        "  print(x, y)"
      ]
    },
    {
      "cell_type": "code",
      "execution_count": null,
      "metadata": {
        "colab": {
          "base_uri": "https://localhost:8080/"
        },
        "id": "s0nGpKSeZd2P",
        "outputId": "203ea1ca-6887-49dd-c96a-c4dfa5d59f52"
      },
      "outputs": [
        {
          "data": {
            "text/plain": [
              "{'brand': 'Ford', 'model': 'Mustang', 'year': 1964}"
            ]
          },
          "execution_count": 47,
          "metadata": {},
          "output_type": "execute_result"
        }
      ],
      "source": [
        "mydict=car.copy()\n",
        "mydict"
      ]
    },
    {
      "cell_type": "code",
      "execution_count": null,
      "metadata": {
        "colab": {
          "base_uri": "https://localhost:8080/"
        },
        "id": "1q40XT2CZrY_",
        "outputId": "6be17f19-41d5-46a4-c882-a2efdc7a44b0"
      },
      "outputs": [
        {
          "data": {
            "text/plain": [
              "{'brand': 'Ford', 'model': 'Mustang', 'year': 1964}"
            ]
          },
          "execution_count": 48,
          "metadata": {},
          "output_type": "execute_result"
        }
      ],
      "source": [
        "rittikdict=dict(mydict)\n",
        "rittikdict"
      ]
    },
    {
      "cell_type": "code",
      "execution_count": null,
      "metadata": {
        "id": "2ciA7htCZyYf"
      },
      "outputs": [],
      "source": [
        "c1 = {\n",
        "  \"name\" : \"ford\",\n",
        "  \"year\" : 2004\n",
        "}\n",
        "c2 = {\n",
        "  \"name\" : \"axio\",\n",
        "  \"year\" : 2007\n",
        "}\n",
        "c3 = {\n",
        "  \"name\" : \"mazda\",\n",
        "  \"year\" : 2011\n",
        "}\n",
        "\n",
        "mycar = {\n",
        "  \"c1\" : c1,\n",
        "  \"c2\" : c2,\n",
        "  \"c3\" : c3\n",
        "}"
      ]
    },
    {
      "cell_type": "code",
      "execution_count": null,
      "metadata": {
        "colab": {
          "base_uri": "https://localhost:8080/"
        },
        "id": "BtBVAcYmaNpW",
        "outputId": "76064989-81f2-431f-d25c-7b9b464f7e9c"
      },
      "outputs": [
        {
          "data": {
            "text/plain": [
              "{'c1': {'name': 'ford', 'year': 2004},\n",
              " 'c2': {'name': 'axio', 'year': 2007},\n",
              " 'c3': {'name': 'mazda', 'year': 2011}}"
            ]
          },
          "execution_count": 50,
          "metadata": {},
          "output_type": "execute_result"
        }
      ],
      "source": [
        "mycar"
      ]
    },
    {
      "cell_type": "code",
      "execution_count": null,
      "metadata": {
        "colab": {
          "base_uri": "https://localhost:8080/"
        },
        "id": "H_nw5pIoaOV_",
        "outputId": "63df4d3e-8623-4a90-e095-e5c713b4867c"
      },
      "outputs": [
        {
          "name": "stdout",
          "output_type": "stream",
          "text": [
            "axio\n"
          ]
        }
      ],
      "source": [
        "print(mycar[\"c2\"][\"name\"])"
      ]
    },
    {
      "cell_type": "code",
      "execution_count": null,
      "metadata": {
        "colab": {
          "base_uri": "https://localhost:8080/"
        },
        "id": "GMnKtW6oabRq",
        "outputId": "377e67f9-9dff-486b-f735-37f0b8d4e1b2"
      },
      "outputs": [
        {
          "name": "stdout",
          "output_type": "stream",
          "text": [
            "{'key1': 0, 'key2': 0, 'key3': 0}\n"
          ]
        }
      ],
      "source": [
        "x = ('key1', 'key2', 'key3')\n",
        "y = 0\n",
        "\n",
        "thisdict = dict.fromkeys(x, y)\n",
        "\n",
        "print(thisdict)"
      ]
    },
    {
      "cell_type": "code",
      "execution_count": null,
      "metadata": {
        "colab": {
          "base_uri": "https://localhost:8080/"
        },
        "id": "u_qbo0RvbA0_",
        "outputId": "8cd6ef25-bf0d-44a8-d7ca-d49296be7cc3"
      },
      "outputs": [
        {
          "name": "stdout",
          "output_type": "stream",
          "text": [
            "Mustang\n"
          ]
        }
      ],
      "source": [
        "car = {\n",
        "  \"brand\": \"Ford\",\n",
        "  \"model\": \"Mustang\",\n",
        "  \"year\": 1964\n",
        "}\n",
        "\n",
        "x = car.setdefault(\"model\", \"Bronco\")\n",
        "\n",
        "print(x)"
      ]
    },
    {
      "cell_type": "code",
      "execution_count": null,
      "metadata": {
        "colab": {
          "base_uri": "https://localhost:8080/"
        },
        "id": "hgeSMeLSbC9_",
        "outputId": "7f555259-0d79-4dfd-c1d7-dc24fdc8fe2a"
      },
      "outputs": [
        {
          "name": "stdout",
          "output_type": "stream",
          "text": [
            "Mustang\n"
          ]
        }
      ],
      "source": [
        "print(car[\"model\"])"
      ]
    },
    {
      "cell_type": "code",
      "execution_count": null,
      "metadata": {
        "id": "P-2T3JNVbI7n"
      },
      "outputs": [],
      "source": [
        "\n",
        "my_dict = {}\n",
        "\n",
        "n = int(input())\n",
        "\n",
        "for _ in range(n):\n",
        "    key = input(\"key: \")\n",
        "    value = input(\"value: \")\n",
        "    my_dict[key] = value\n",
        "\n",
        "print(my_dict)"
      ]
    },
    {
      "cell_type": "code",
      "execution_count": null,
      "metadata": {
        "id": "MMXWhhObcN5f"
      },
      "outputs": [],
      "source": [
        "\n",
        "my_dict = {}\n",
        "\n",
        "input_string = input(\"Enter key-value pairs separated by commas: \")\n",
        "pairs = input_string.split(',')\n",
        "for pair in pairs:\n",
        "    key, value = pair.strip().split(' ')\n",
        "    my_dict[key] = value\n",
        "\n",
        "print(my_dict)"
      ]
    },
    {
      "cell_type": "code",
      "execution_count": null,
      "metadata": {
        "colab": {
          "base_uri": "https://localhost:8080/"
        },
        "id": "k82Q2aXBcPRX",
        "outputId": "c79b4dcb-262c-4469-d48b-254913bf4953"
      },
      "outputs": [
        {
          "name": "stdout",
          "output_type": "stream",
          "text": [
            "a\n",
            "value: r\n",
            "b\n",
            "value: hi\n",
            "1\n",
            "{'a': 'r', 'b': 'hi'}\n"
          ]
        }
      ],
      "source": [
        "\n",
        "my_dict = {}\n",
        "\n",
        "while True:\n",
        "    key = input()\n",
        "    if key == '1':\n",
        "        break\n",
        "    value = input(\"savalue: \")\n",
        "    my_dict[key] = value\n",
        "\n",
        "print(my_dict)"
      ]
    },
    {
      "cell_type": "code",
      "execution_count": null,
      "metadata": {
        "id": "fIA_bWK-cQan"
      },
      "outputs": [],
      "source": [
        "input_string = input(\"Enter key-value pairs separated by commas: \")\n",
        "my_dict = {k.strip(): v.strip() for k, v in (item.split(':') for item in input_string.split(','))}\n",
        "\n",
        "print(my_dict)"
      ]
    },
    {
      "cell_type": "code",
      "execution_count": 36,
      "metadata": {
        "id": "9tK7_HVodn0Q"
      },
      "outputs": [
        {
          "ename": "ValueError",
          "evalue": "invalid literal for int() with base 10: 'Poem'",
          "output_type": "error",
          "traceback": [
            "\u001b[1;31m---------------------------------------------------------------------------\u001b[0m",
            "\u001b[1;31mValueError\u001b[0m                                Traceback (most recent call last)",
            "Cell \u001b[1;32mIn[36], line 7\u001b[0m\n\u001b[0;32m      5\u001b[0m category \u001b[38;5;241m=\u001b[39m \u001b[38;5;28minput\u001b[39m(\u001b[38;5;124m\"\u001b[39m\u001b[38;5;124mEnter category name: \u001b[39m\u001b[38;5;124m\"\u001b[39m)\n\u001b[0;32m      6\u001b[0m nested_dict[category] \u001b[38;5;241m=\u001b[39m {}\n\u001b[1;32m----> 7\u001b[0m num_items \u001b[38;5;241m=\u001b[39m \u001b[38;5;28;43mint\u001b[39;49m\u001b[43m(\u001b[49m\u001b[38;5;28;43minput\u001b[39;49m\u001b[43m(\u001b[49m\u001b[38;5;124;43mf\u001b[39;49m\u001b[38;5;124;43m\"\u001b[39;49m\u001b[38;5;124;43mEnter the number of items in \u001b[39;49m\u001b[38;5;132;43;01m{\u001b[39;49;00m\u001b[43mcategory\u001b[49m\u001b[38;5;132;43;01m}\u001b[39;49;00m\u001b[38;5;124;43m: \u001b[39;49m\u001b[38;5;124;43m\"\u001b[39;49m\u001b[43m)\u001b[49m\u001b[43m)\u001b[49m\n\u001b[0;32m      9\u001b[0m \u001b[38;5;28;01mfor\u001b[39;00m _ \u001b[38;5;129;01min\u001b[39;00m \u001b[38;5;28mrange\u001b[39m(num_items):\n\u001b[0;32m     10\u001b[0m     item \u001b[38;5;241m=\u001b[39m \u001b[38;5;28minput\u001b[39m(\u001b[38;5;124m\"\u001b[39m\u001b[38;5;124mEnter item name: \u001b[39m\u001b[38;5;124m\"\u001b[39m)\n",
            "\u001b[1;31mValueError\u001b[0m: invalid literal for int() with base 10: 'Poem'"
          ]
        }
      ],
      "source": [
        "nested_dict = {}\n",
        "num_categories = int(input(\"Enter the number of categories: \"))\n",
        "\n",
        "for _ in range(num_categories):\n",
        "    category = input(\"Enter category name: \")\n",
        "    nested_dict[category] = {}\n",
        "    num_items = int(input(f\"Enter the number of items in {category}: \"))\n",
        "\n",
        "    for _ in range(num_items):\n",
        "        item = input(\"Enter item name: \")\n",
        "        price = float(input(\"Enter item price: \"))\n",
        "        nested_dict[category][item] = price\n",
        "\n",
        "print(nested_dict)\n"
      ]
    },
    {
      "cell_type": "code",
      "execution_count": 45,
      "metadata": {
        "colab": {
          "base_uri": "https://localhost:8080/"
        },
        "id": "sZGDVNzAd8FY",
        "outputId": "0ed17e0a-b621-4c33-ee8c-740f1af2cd8c"
      },
      "outputs": [
        {
          "name": "stdout",
          "output_type": "stream",
          "text": [
            "Index: 3 Value: 1\n",
            "Index: 6 Value: 8\n"
          ]
        }
      ],
      "source": [
        "t=[7,5,5,1,6,7,8,7,6]\n",
        "d={}\n",
        "for i,v in enumerate(t):\n",
        "  if t.count(v)==1:\n",
        "    print(f\"Index: {i} Value: {v}\")\n",
        "# for v in t:\n",
        "#   if not v in d:\n",
        "#     d[v]=1\n",
        "#     print(d[v])\n",
        "#   else:\n",
        "#     d[v]+=1\n",
        "#     print(d[v])\n",
        "# print(d)\n",
        "# for k in d:\n",
        "#   if d[k]==1:\n",
        "#     print(k,end=' ')"
      ]
    },
    {
      "cell_type": "code",
      "execution_count": null,
      "metadata": {
        "id": "3GkMu-7ofK-P"
      },
      "outputs": [],
      "source": [
        "myset = {\"apple\", \"banana\", \"cherry\"}"
      ]
    },
    {
      "cell_type": "code",
      "execution_count": null,
      "metadata": {
        "colab": {
          "base_uri": "https://localhost:8080/"
        },
        "id": "qkEDEiKJwP9s",
        "outputId": "d6c36587-114b-4359-ae11-34f6154eab18"
      },
      "outputs": [
        {
          "name": "stdout",
          "output_type": "stream",
          "text": [
            "{False, True, 'banana', 'cherry', 'apple'}\n"
          ]
        }
      ],
      "source": [
        "thisset = {\"apple\", \"banana\", \"cherry\", False, True, 0}\n",
        "\n",
        "print(thisset)"
      ]
    },
    {
      "cell_type": "code",
      "execution_count": null,
      "metadata": {
        "colab": {
          "base_uri": "https://localhost:8080/"
        },
        "id": "TJQp9jYRweV0",
        "outputId": "fc0d5862-f76f-4896-e25f-4ba73510dfda"
      },
      "outputs": [
        {
          "name": "stdout",
          "output_type": "stream",
          "text": [
            "{'banana', 'cherry', 'apple', 'mango', 'pineapple', 'papaya'}\n"
          ]
        }
      ],
      "source": [
        "thisset = {\"apple\", \"banana\", \"cherry\"}\n",
        "tropical = {\"pineapple\", \"mango\", \"papaya\"}\n",
        "\n",
        "thisset.update(tropical)\n",
        "\n",
        "print(thisset)"
      ]
    },
    {
      "cell_type": "code",
      "execution_count": null,
      "metadata": {
        "colab": {
          "base_uri": "https://localhost:8080/"
        },
        "id": "e5udOfh-wpZN",
        "outputId": "39fec0cc-d3d1-4e77-f508-11a29f61494a"
      },
      "outputs": [
        {
          "name": "stdout",
          "output_type": "stream",
          "text": [
            "{'orange', 'banana', 'cherry', 'apple', 'kiwi'}\n"
          ]
        }
      ],
      "source": [
        "thisset = {\"apple\", \"banana\", \"cherry\"}\n",
        "mylist = [\"kiwi\", \"orange\"]\n",
        "\n",
        "thisset.update(mylist)\n",
        "\n",
        "print(thisset)"
      ]
    },
    {
      "cell_type": "code",
      "execution_count": null,
      "metadata": {
        "colab": {
          "base_uri": "https://localhost:8080/"
        },
        "id": "DW1LDpo9wtIc",
        "outputId": "fbe96ba7-a9b8-4efe-b9e0-e6c5c7530618"
      },
      "outputs": [
        {
          "name": "stdout",
          "output_type": "stream",
          "text": [
            "{'cherry', 'apple'}\n"
          ]
        }
      ],
      "source": [
        "thisset = {\"apple\", \"banana\", \"cherry\"}\n",
        "\n",
        "thisset.discard(\"banana\")\n",
        "\n",
        "print(thisset)"
      ]
    },
    {
      "cell_type": "code",
      "execution_count": null,
      "metadata": {
        "colab": {
          "base_uri": "https://localhost:8080/"
        },
        "id": "h62hq67-w1ml",
        "outputId": "5a85a0e5-ebc6-4c59-a521-685eeae87684"
      },
      "outputs": [
        {
          "name": "stdout",
          "output_type": "stream",
          "text": [
            "{'apple'}\n"
          ]
        }
      ],
      "source": [
        "x = {\"apple\", \"banana\", \"cherry\"}\n",
        "y = {\"google\", \"microsoft\", \"apple\"}\n",
        "\n",
        "x.intersection_update(y)\n",
        "\n",
        "print(x)"
      ]
    },
    {
      "cell_type": "code",
      "execution_count": null,
      "metadata": {
        "colab": {
          "base_uri": "https://localhost:8080/"
        },
        "id": "D-KrWMVaxMot",
        "outputId": "e6ed07a8-3f0f-4d97-ae1c-0de9ce691149"
      },
      "outputs": [
        {
          "name": "stdout",
          "output_type": "stream",
          "text": [
            "{'apple'}\n"
          ]
        }
      ],
      "source": [
        "x = {\"apple\", \"banana\", \"cherry\"}\n",
        "y = {\"google\", \"microsoft\", \"apple\"}\n",
        "\n",
        "z = x.intersection(y)\n",
        "\n",
        "print(z)"
      ]
    },
    {
      "cell_type": "code",
      "execution_count": null,
      "metadata": {
        "colab": {
          "base_uri": "https://localhost:8080/"
        },
        "id": "2U1wmoe_xQ_k",
        "outputId": "b1a46b19-30c0-44f2-8d6a-f7542b81c4a2"
      },
      "outputs": [
        {
          "name": "stdout",
          "output_type": "stream",
          "text": [
            "{'google', 'banana', 'cherry', 'microsoft'}\n"
          ]
        }
      ],
      "source": [
        "x = {\"apple\", \"banana\", \"cherry\"}\n",
        "y = {\"google\", \"microsoft\", \"apple\"}\n",
        "\n",
        "z = x.symmetric_difference(y)\n",
        "\n",
        "print(z)"
      ]
    },
    {
      "cell_type": "code",
      "execution_count": null,
      "metadata": {
        "colab": {
          "base_uri": "https://localhost:8080/"
        },
        "id": "ATXqakJdxVpk",
        "outputId": "9343549d-4f76-4886-96e1-214fdb1b8b66"
      },
      "outputs": [
        {
          "name": "stdout",
          "output_type": "stream",
          "text": [
            "{1, 2, 3, 'b', 'c', 'a'}\n"
          ]
        }
      ],
      "source": [
        "set1 = {\"a\", \"b\" , \"c\"}\n",
        "set2 = {1, 2, 3}\n",
        "\n",
        "set3 = set1.union(set2)\n",
        "print(set3)"
      ]
    },
    {
      "cell_type": "code",
      "execution_count": null,
      "metadata": {
        "colab": {
          "base_uri": "https://localhost:8080/"
        },
        "id": "I1mgfaI3Xrjn",
        "outputId": "5fd8105b-df6f-44d2-a84a-8983c7936e0b"
      },
      "outputs": [
        {
          "name": "stdout",
          "output_type": "stream",
          "text": [
            "Enter a String or Word:Sarbajit\n"
          ]
        },
        {
          "data": {
            "text/plain": [
              "{'S': 1, 'a': 2, 'r': 1, 'b': 1, 'j': 1, 'i': 1, 't': 1}"
            ]
          },
          "execution_count": 30,
          "metadata": {},
          "output_type": "execute_result"
        }
      ],
      "source": [
        "def c(word):\n",
        "    letter_c = {}\n",
        "    for letter in word:\n",
        "        if letter in letter_c:\n",
        "            letter_c[letter] += 1\n",
        "        else:\n",
        "            letter_c[letter] = 1\n",
        "    return letter_c\n",
        "word = input(\"Enter a String or Word:\")\n",
        "result = c(word)\n",
        "result\n",
        "# for letter, count in result.items():\n",
        "#     print(\"{}: {}\".format(letter, count))"
      ]
    },
    {
      "cell_type": "code",
      "execution_count": 9,
      "metadata": {},
      "outputs": [
        {
          "name": "stdout",
          "output_type": "stream",
          "text": [
            "b:1\n",
            "a:1\n",
            "p:2\n",
            "y:1\n"
          ]
        }
      ],
      "source": [
        "word = input().strip()\n",
        "c= set()  \n",
        "for v in word:\n",
        "    if v not in c:\n",
        "        c.add(v)\n",
        "        count = word.count(v)\n",
        "        print(\"{{v}:{count}}\")\n",
        "# word = input().strip()\n",
        "# # Use a set to track already counted characters\n",
        "# counted_chars = set()\n",
        "\n",
        "# for character in word:\n",
        "#     if character not in counted_chars:\n",
        "#         counted_chars.add(character)\n",
        "#         count = word.count(character)\n",
        "#         print(f\"{character} = {count}\")\n",
        "\n"
      ]
    },
    {
      "cell_type": "code",
      "execution_count": null,
      "metadata": {
        "colab": {
          "base_uri": "https://localhost:8080/"
        },
        "id": "sSSs_kKfYB-9",
        "outputId": "27adc570-99db-42e5-b019-5d4d4cadc9ad"
      },
      "outputs": [
        {
          "name": "stdout",
          "output_type": "stream",
          "text": [
            "fahim\n",
            "6\n",
            "1\n",
            "8\n",
            "9\n",
            "13\n",
            "F*AH*IM\n"
          ]
        }
      ],
      "source": [
        "def encode(name):\n",
        "    letter_values = {'A': 1, 'B': 2, 'C': 3, 'D': 4, 'E': 5, 'F': 6, 'G': 7, 'H': 8, 'I': 9, 'J': 10, 'K': 11,\n",
        "                     'L': 12, 'M': 13, 'N': 14, 'O': 15, 'P': 16, 'Q': 17, 'R': 18, 'S': 19, 'T': 20, 'U': 21,\n",
        "                     'V': 22, 'W': 23, 'X': 24, 'Y': 25, 'Z': 26}\n",
        "    encoded_name = ''\n",
        "    for c in name:\n",
        "        value = letter_values.get(c.upper())\n",
        "        if value % 2 == 0:\n",
        "            encoded_name += c + '*'\n",
        "        else:\n",
        "            encoded_name += c\n",
        "    return encoded_name\n",
        "\n",
        "name = input()\n",
        "encoded_name = encode(name)\n",
        "print(encoded_name.upper())"
      ]
    },
    {
      "cell_type": "code",
      "execution_count": 74,
      "metadata": {},
      "outputs": [
        {
          "name": "stdout",
          "output_type": "stream",
          "text": [
            "F*AH*IM\n"
          ]
        }
      ],
      "source": [
        "def encode(name):\n",
        "    encoded_name = ''\n",
        "    for c in name.upper():  # Convert the name to uppercase at the start\n",
        "        value = ord(c)\n",
        "        if value % 2 == 0:  # Check if the Unicode code point value is even\n",
        "            encoded_name += c + '*'\n",
        "        else:\n",
        "            encoded_name += c\n",
        "    return encoded_name\n",
        "\n",
        "name = input(\"Enter the name to encode: \")\n",
        "encoded_name = encode(name)\n",
        "print(encoded_name)"
      ]
    },
    {
      "cell_type": "code",
      "execution_count": null,
      "metadata": {
        "colab": {
          "base_uri": "https://localhost:8080/"
        },
        "id": "alkF7Nk6gTIX",
        "outputId": "c0be5ef1-3499-41c9-df58-13309313ab14"
      },
      "outputs": [
        {
          "name": "stdout",
          "output_type": "stream",
          "text": [
            "['cherry', 'orange', 'kiwi']\n"
          ]
        }
      ],
      "source": [
        "thislist = [\"apple\", \"banana\", \"cherry\", \"orange\", \"kiwi\", \"melon\", \"mango\"]\n",
        "print(thislist[2:5])"
      ]
    },
    {
      "cell_type": "code",
      "execution_count": null,
      "metadata": {
        "colab": {
          "base_uri": "https://localhost:8080/"
        },
        "id": "XIbX6mYItWk2",
        "outputId": "41919dfe-e655-46b5-9568-5d7805e00c2a"
      },
      "outputs": [
        {
          "name": "stdout",
          "output_type": "stream",
          "text": [
            "['apple', 'banana', 'cherry', 'orange']\n"
          ]
        }
      ],
      "source": [
        "thislist = [\"apple\", \"banana\", \"cherry\", \"orange\", \"kiwi\", \"melon\", \"mango\"]\n",
        "print(thislist[:4])"
      ]
    },
    {
      "cell_type": "code",
      "execution_count": null,
      "metadata": {
        "colab": {
          "base_uri": "https://localhost:8080/"
        },
        "id": "T6Qyv4agtes8",
        "outputId": "27350cc5-089e-4f40-df0a-6cd3122b0860"
      },
      "outputs": [
        {
          "name": "stdout",
          "output_type": "stream",
          "text": [
            "['cherry', 'orange', 'kiwi', 'melon', 'mango']\n"
          ]
        }
      ],
      "source": [
        "thislist = [\"apple\", \"banana\", \"cherry\", \"orange\", \"kiwi\", \"melon\", \"mango\"]\n",
        "print(thislist[2:])"
      ]
    },
    {
      "cell_type": "code",
      "execution_count": null,
      "metadata": {
        "colab": {
          "base_uri": "https://localhost:8080/"
        },
        "id": "v-0aQg0Dtiwr",
        "outputId": "d8eb901d-4278-4305-af3b-187943c782da"
      },
      "outputs": [
        {
          "name": "stdout",
          "output_type": "stream",
          "text": [
            "['orange', 'kiwi', 'melon', 'mango']\n"
          ]
        }
      ],
      "source": [
        "thislist = [\"apple\", \"banana\", \"cherry\", \"orange\", \"kiwi\", \"melon\", \"mango\"]\n",
        "print(thislist[-4:-1])"
      ]
    },
    {
      "cell_type": "code",
      "execution_count": null,
      "metadata": {
        "colab": {
          "base_uri": "https://localhost:8080/"
        },
        "id": "LHrXbPa_tokV",
        "outputId": "938efea7-11cb-411c-80cd-9ba5bce396c6"
      },
      "outputs": [
        {
          "name": "stdout",
          "output_type": "stream",
          "text": [
            "yes\n"
          ]
        }
      ],
      "source": [
        "if \"banana\" in thislist:\n",
        "  print(\"yes\")"
      ]
    },
    {
      "cell_type": "code",
      "execution_count": null,
      "metadata": {
        "colab": {
          "base_uri": "https://localhost:8080/"
        },
        "id": "czLTqo7It-Go",
        "outputId": "9e7c9951-4348-4231-aac2-47d376980148"
      },
      "outputs": [
        {
          "data": {
            "text/plain": [
              "['apple', 'jamrul', 'cherry', 'orange', 'kiwi', 'melon', 'mango']"
            ]
          },
          "execution_count": 8,
          "metadata": {},
          "output_type": "execute_result"
        }
      ],
      "source": [
        "thislist[1]=\"jamrul\"\n",
        "thislist"
      ]
    },
    {
      "cell_type": "code",
      "execution_count": null,
      "metadata": {
        "colab": {
          "base_uri": "https://localhost:8080/"
        },
        "id": "nUryG7BMuOV3",
        "outputId": "0eea86f9-f272-4683-d8ef-ba55b1a15474"
      },
      "outputs": [
        {
          "name": "stdout",
          "output_type": "stream",
          "text": [
            "['apple', 'blackcurrant', 'watermelon', 'kiwi', 'mango']\n"
          ]
        }
      ],
      "source": [
        "thislist = [\"apple\", \"banana\", \"cherry\", \"orange\", \"kiwi\", \"mango\"]\n",
        "thislist[1:4] = [\"blackcurrant\", \"watermelon\"]\n",
        "print(thislist)"
      ]
    },
    {
      "cell_type": "code",
      "execution_count": null,
      "metadata": {
        "colab": {
          "base_uri": "https://localhost:8080/"
        },
        "id": "diRG930VuVik",
        "outputId": "acb31286-b8f9-4266-f881-5acc9b8274cf"
      },
      "outputs": [
        {
          "name": "stdout",
          "output_type": "stream",
          "text": [
            "['apple', 'blackcurrant', 'watermelon', 'cherry']\n"
          ]
        }
      ],
      "source": [
        "thislist = [\"apple\", \"banana\", \"cherry\"]\n",
        "thislist[1:2] = [\"blackcurrant\", \"watermelon\"]\n",
        "print(thislist)"
      ]
    },
    {
      "cell_type": "code",
      "execution_count": null,
      "metadata": {
        "colab": {
          "base_uri": "https://localhost:8080/"
        },
        "id": "zuZF-QY9u50Y",
        "outputId": "a830bcea-1484-4ce1-e185-8bfc3b4d2232"
      },
      "outputs": [
        {
          "name": "stdout",
          "output_type": "stream",
          "text": [
            "['apple', 'watermelon']\n"
          ]
        }
      ],
      "source": [
        "thislist = [\"apple\", \"banana\", \"cherry\"]\n",
        "thislist[1:3] = [\"watermelon\"]\n",
        "print(thislist)"
      ]
    },
    {
      "cell_type": "code",
      "execution_count": null,
      "metadata": {
        "colab": {
          "base_uri": "https://localhost:8080/"
        },
        "id": "wjQwUXAcvAV7",
        "outputId": "6e919826-c185-4821-f398-2b0ad5e3ffdb"
      },
      "outputs": [
        {
          "name": "stdout",
          "output_type": "stream",
          "text": [
            "['apple', 'banana', 'watermelon', 'cherry']\n"
          ]
        }
      ],
      "source": [
        "thislist = [\"apple\", \"banana\", \"cherry\"]\n",
        "thislist.insert(2, \"watermelon\")\n",
        "print(thislist)"
      ]
    },
    {
      "cell_type": "code",
      "execution_count": null,
      "metadata": {
        "colab": {
          "base_uri": "https://localhost:8080/"
        },
        "id": "nGBRS-gIvDr_",
        "outputId": "63816946-3111-4a25-d767-b435ffd768b5"
      },
      "outputs": [
        {
          "name": "stdout",
          "output_type": "stream",
          "text": [
            "4\n",
            "Sarbajit Paul Bappy\n",
            "Bikash Chandra Paul\n",
            "Lila Rani Paul\n",
            "Khulna, Bangladesh\n",
            "Sarbajit Paul Bappy Bikash Chandra Paul Lila Rani Paul Khulna, Bangladesh\n"
          ]
        }
      ],
      "source": [
        "lst=[]\n",
        "n=int(input())\n",
        "for _ in range(n):\n",
        "  lst.append(input())\n",
        "print(' '.join(lst))"
      ]
    },
    {
      "cell_type": "code",
      "execution_count": 3,
      "metadata": {
        "colab": {
          "base_uri": "https://localhost:8080/"
        },
        "id": "QkpnbwzEvd-x",
        "outputId": "1e3711f4-cc05-4135-afb5-3c9cac9e6c53"
      },
      "outputs": [
        {
          "name": "stdout",
          "output_type": "stream",
          "text": [
            "\n",
            "Enter information for the person. Press enter directly to skip any detail.\n",
            "\n",
            "Person Information:\n",
            "Name: Sarbajit\n",
            "Father name: Bikash\n",
            "Mother name: Lila rani\n",
            "Address: None\n",
            "--------------------\n"
          ]
        }
      ],
      "source": [
        "def input_single_person_info(template):\n",
        "    person_info = template.copy()  # Use a copy of the template for each person\n",
        "    print(\"\\nEnter information for the person. Press enter directly to skip any detail.\")\n",
        "    for key in template.keys():\n",
        "        value = input(f\"Enter Your {key.capitalize()}\").strip()\n",
        "        if value:  # Only update if the user provided a value\n",
        "            person_info[key] = value\n",
        "        else:\n",
        "            person_info[key] = \"None\"\n",
        "    return person_info\n",
        "\n",
        "def input_all_persons_info():\n",
        "    persons = []  # List to store all persons' information\n",
        "    n = int(input(\"Enter the number of persons: \"))\n",
        "\n",
        "    # Define a template for the person's information\n",
        "    person_info_template = {\n",
        "        'name': '',\n",
        "        'father name': '',\n",
        "        'mother name': '',\n",
        "        'address': '',\n",
        "    }\n",
        "\n",
        "    for _ in range(n):\n",
        "        person_info = input_single_person_info(person_info_template)\n",
        "        persons.append(person_info)\n",
        "\n",
        "    return persons\n",
        "\n",
        "# Function to display the collected information\n",
        "def display_persons_info(persons):\n",
        "    for person in persons:\n",
        "        print(\"\\nPerson Information:\")\n",
        "        for key, value in person.items():\n",
        "            print(f\"{key.capitalize()}: {value.capitalize()}\")\n",
        "        print(\"-\" * 20)  # Just a separator for readability\n",
        "\n",
        "persons_info = input_all_persons_info()\n",
        "display_persons_info(persons_info)\n"
      ]
    },
    {
      "cell_type": "code",
      "execution_count": 57,
      "metadata": {},
      "outputs": [
        {
          "name": "stdout",
          "output_type": "stream",
          "text": [
            "name:s\n",
            "address:k\n",
            "name:d\n",
            "address:f\n"
          ]
        }
      ],
      "source": [
        "def data_i(person):\n",
        "    p = person.copy()\n",
        "    for i in p.keys():\n",
        "        v = input().strip()\n",
        "        if v:\n",
        "            p[i]=v\n",
        "        else:\n",
        "            p[i]=\"none\"\n",
        "    return p\n",
        "def store():\n",
        "    person = {\n",
        "    'name':'',\n",
        "    'address':'',\n",
        "    }\n",
        "    info = []\n",
        "    n = int(input(\"Enter the number of persons: \"))\n",
        "    for _ in range(n):\n",
        "        person_info = data_i(person)\n",
        "        info.append(person_info)\n",
        "    return info\n",
        "def display(info):\n",
        "    for i in info:\n",
        "        for k,v in i.items():\n",
        "            print(f\"{k}:{v}\")\n",
        "\n",
        "p_info = store()\n",
        "display(p_info)"
      ]
    },
    {
      "cell_type": "code",
      "execution_count": 4,
      "metadata": {
        "id": "SIukyzb9wvjM"
      },
      "outputs": [
        {
          "name": "stdout",
          "output_type": "stream",
          "text": [
            "['apple', 'banana', 'cherry', 'kiwi', 'orange']\n"
          ]
        }
      ],
      "source": [
        "thislist = [\"apple\", \"banana\", \"cherry\"]\n",
        "thistuple = (\"kiwi\", \"orange\")\n",
        "thislist.extend(thistuple)\n",
        "print(thislist)"
      ]
    },
    {
      "cell_type": "code",
      "execution_count": 14,
      "metadata": {},
      "outputs": [
        {
          "name": "stdout",
          "output_type": "stream",
          "text": [
            "['apple', 'banana', 'cherry', ['brand', 'Ford'], ['model', 'Mustang'], ['year', 1964], ('a', 1), ('b', 2), 1, 2, 3, 4, 'mango', 'pineapple', 'papaya']\n"
          ]
        }
      ],
      "source": [
        "thislist = [\"apple\", \"banana\", \"cherry\"]\n",
        "tropical = [\"mango\", \"pineapple\", \"papaya\"]\n",
        "thisset={1,2,3,4}\n",
        "thistuple=(('a',1),('b',2))\n",
        "thisdict ={\"brand\": \"Ford\",\"model\": \"Mustang\",\"year\": 1964}\n",
        "for key,value in thisdict.items():\n",
        "    thislist.append([key, value])\n",
        "thislist.extend(thistuple)\n",
        "thislist.extend(thisset)\n",
        "thislist.extend(tropical)\n",
        "print(thislist)"
      ]
    },
    {
      "cell_type": "code",
      "execution_count": 15,
      "metadata": {},
      "outputs": [
        {
          "name": "stdout",
          "output_type": "stream",
          "text": [
            "['apple', 'cherry', ['brand', 'Ford'], ['model', 'Mustang'], ['year', 1964], ('a', 1), ('b', 2), 1, 2, 3, 4, 'mango', 'pineapple', 'papaya']\n"
          ]
        }
      ],
      "source": [
        "thislist.remove(\"banana\")\n",
        "print(thislist)"
      ]
    },
    {
      "cell_type": "code",
      "execution_count": 16,
      "metadata": {},
      "outputs": [
        {
          "ename": "ValueError",
          "evalue": "list.remove(x): x not in list",
          "output_type": "error",
          "traceback": [
            "\u001b[1;31m---------------------------------------------------------------------------\u001b[0m",
            "\u001b[1;31mValueError\u001b[0m                                Traceback (most recent call last)",
            "Cell \u001b[1;32mIn[16], line 1\u001b[0m\n\u001b[1;32m----> 1\u001b[0m \u001b[43mthislist\u001b[49m\u001b[38;5;241;43m.\u001b[39;49m\u001b[43mremove\u001b[49m\u001b[43m(\u001b[49m\u001b[38;5;124;43m\"\u001b[39;49m\u001b[38;5;124;43mbanana\u001b[39;49m\u001b[38;5;124;43m\"\u001b[39;49m\u001b[43m)\u001b[49m\n\u001b[0;32m      2\u001b[0m \u001b[38;5;28mprint\u001b[39m(thislist)\n",
            "\u001b[1;31mValueError\u001b[0m: list.remove(x): x not in list"
          ]
        }
      ],
      "source": [
        "thislist.remove(\"banana\")\n",
        "print(thislist)"
      ]
    },
    {
      "cell_type": "code",
      "execution_count": 20,
      "metadata": {},
      "outputs": [
        {
          "name": "stdout",
          "output_type": "stream",
          "text": [
            "['apple', ['brand', 'Ford'], ['year', 1964], ('a', 1), ('b', 2), 1, 2, 3, 4, 'mango']\n"
          ]
        }
      ],
      "source": [
        "thislist.pop()\n",
        "print(thislist)"
      ]
    },
    {
      "cell_type": "code",
      "execution_count": 21,
      "metadata": {},
      "outputs": [
        {
          "name": "stdout",
          "output_type": "stream",
          "text": [
            "['banana', 'cherry']\n"
          ]
        }
      ],
      "source": [
        "thislist = [\"apple\", \"banana\", \"cherry\"]\n",
        "del thislist[0]\n",
        "print(thislist)"
      ]
    },
    {
      "cell_type": "code",
      "execution_count": 25,
      "metadata": {},
      "outputs": [
        {
          "ename": "NameError",
          "evalue": "name 'st' is not defined",
          "output_type": "error",
          "traceback": [
            "\u001b[1;31m---------------------------------------------------------------------------\u001b[0m",
            "\u001b[1;31mNameError\u001b[0m                                 Traceback (most recent call last)",
            "Cell \u001b[1;32mIn[25], line 3\u001b[0m\n\u001b[0;32m      1\u001b[0m st \u001b[38;5;241m=\u001b[39m [\u001b[38;5;124m\"\u001b[39m\u001b[38;5;124mapple\u001b[39m\u001b[38;5;124m\"\u001b[39m, \u001b[38;5;124m\"\u001b[39m\u001b[38;5;124mbanana\u001b[39m\u001b[38;5;124m\"\u001b[39m, \u001b[38;5;124m\"\u001b[39m\u001b[38;5;124mcherry\u001b[39m\u001b[38;5;124m\"\u001b[39m]\n\u001b[0;32m      2\u001b[0m \u001b[38;5;28;01mdel\u001b[39;00m st\n\u001b[1;32m----> 3\u001b[0m \u001b[38;5;28mprint\u001b[39m(\u001b[43mst\u001b[49m)\n",
            "\u001b[1;31mNameError\u001b[0m: name 'st' is not defined"
          ]
        }
      ],
      "source": [
        "st = [\"apple\", \"banana\", \"cherry\"]\n",
        "del st\n",
        "print(st)"
      ]
    },
    {
      "cell_type": "code",
      "execution_count": 26,
      "metadata": {},
      "outputs": [
        {
          "name": "stdout",
          "output_type": "stream",
          "text": [
            "[]\n"
          ]
        }
      ],
      "source": [
        "thislist = [\"apple\", \"banana\", \"cherry\"]\n",
        "thislist.clear()\n",
        "print(thislist)"
      ]
    },
    {
      "cell_type": "code",
      "execution_count": 27,
      "metadata": {},
      "outputs": [
        {
          "name": "stdout",
          "output_type": "stream",
          "text": [
            "apple\n",
            "banana\n",
            "cherry\n"
          ]
        }
      ],
      "source": [
        "thislist = [\"apple\", \"banana\", \"cherry\"]\n",
        "for x in thislist:\n",
        "  print(x)"
      ]
    },
    {
      "cell_type": "code",
      "execution_count": 28,
      "metadata": {},
      "outputs": [
        {
          "name": "stdout",
          "output_type": "stream",
          "text": [
            "apple\n",
            "banana\n",
            "cherry\n"
          ]
        }
      ],
      "source": [
        "thislist = [\"apple\", \"banana\", \"cherry\"]\n",
        "for i in range(len(thislist)):\n",
        "  print(thislist[i])"
      ]
    },
    {
      "cell_type": "code",
      "execution_count": 30,
      "metadata": {},
      "outputs": [
        {
          "name": "stdout",
          "output_type": "stream",
          "text": [
            "apple\n",
            "banana\n",
            "cherry\n"
          ]
        },
        {
          "data": {
            "text/plain": [
              "[None, None, None]"
            ]
          },
          "execution_count": 30,
          "metadata": {},
          "output_type": "execute_result"
        }
      ],
      "source": [
        "thisli = [\"apple\", \"banana\", \"cherry\"]\n",
        "[print(x) for x in thisli]"
      ]
    },
    {
      "cell_type": "code",
      "execution_count": 31,
      "metadata": {},
      "outputs": [
        {
          "name": "stdout",
          "output_type": "stream",
          "text": [
            "['apple', 'banana', 'mango']\n"
          ]
        }
      ],
      "source": [
        "fruits = [\"apple\", \"banana\", \"cherry\", \"kiwi\", \"mango\"]\n",
        "newlist = []\n",
        "\n",
        "for x in fruits:\n",
        "  if \"a\" in x:\n",
        "    newlist.append(x)\n",
        "\n",
        "print(newlist)"
      ]
    },
    {
      "cell_type": "code",
      "execution_count": 34,
      "metadata": {},
      "outputs": [
        {
          "name": "stdout",
          "output_type": "stream",
          "text": [
            "['apple', 'banana', 'kiwi', 'mango']\n"
          ]
        }
      ],
      "source": [
        "fruits = [\"apple\", \"banana\", \"cherry\", \"kiwi\", \"mango\"]\n",
        "newlist = [x for x in fruits if \"k\" in x or \"a\" in x]\n",
        "print(newlist)"
      ]
    },
    {
      "cell_type": "code",
      "execution_count": 35,
      "metadata": {},
      "outputs": [
        {
          "name": "stdout",
          "output_type": "stream",
          "text": [
            "['banana', 'kiwi', 'mango', 'orange', 'pineapple']\n"
          ]
        }
      ],
      "source": [
        "thislist = [\"orange\", \"mango\", \"kiwi\", \"pineapple\", \"banana\"]\n",
        "thislist.sort()\n",
        "print(thislist)"
      ]
    },
    {
      "cell_type": "code",
      "execution_count": 36,
      "metadata": {},
      "outputs": [
        {
          "name": "stdout",
          "output_type": "stream",
          "text": [
            "['pineapple', 'orange', 'mango', 'kiwi', 'banana']\n"
          ]
        }
      ],
      "source": [
        "thislist = [\"orange\", \"mango\", \"kiwi\", \"pineapple\", \"banana\"]\n",
        "thislist.sort(reverse = True)\n",
        "print(thislist)"
      ]
    },
    {
      "cell_type": "code",
      "execution_count": 37,
      "metadata": {},
      "outputs": [
        {
          "name": "stdout",
          "output_type": "stream",
          "text": [
            "('apple', 'kiwi', 'cherry')\n"
          ]
        }
      ],
      "source": [
        "x = (\"apple\", \"banana\", \"cherry\")\n",
        "y = list(x)\n",
        "y[1] = \"kiwi\"\n",
        "x = tuple(y)\n",
        "\n",
        "print(x)"
      ]
    },
    {
      "cell_type": "code",
      "execution_count": 38,
      "metadata": {},
      "outputs": [
        {
          "name": "stdout",
          "output_type": "stream",
          "text": [
            "('apple', 'banana', 'cherry', 'orange')\n"
          ]
        }
      ],
      "source": [
        "thistuple = (\"apple\", \"banana\", \"cherry\")\n",
        "y = (\"orange\",)\n",
        "thistuple += y\n",
        "\n",
        "print(thistuple)"
      ]
    },
    {
      "cell_type": "code",
      "execution_count": 39,
      "metadata": {},
      "outputs": [
        {
          "name": "stdout",
          "output_type": "stream",
          "text": [
            "apple\n",
            "banana\n",
            "cherry\n"
          ]
        }
      ],
      "source": [
        "fruits = (\"apple\", \"banana\", \"cherry\")\n",
        "\n",
        "(green, yellow, red) = fruits\n",
        "\n",
        "print(green)\n",
        "print(yellow)\n",
        "print(red)"
      ]
    },
    {
      "cell_type": "code",
      "execution_count": 40,
      "metadata": {},
      "outputs": [
        {
          "name": "stdout",
          "output_type": "stream",
          "text": [
            "apple\n",
            "banana\n",
            "['cherry', 'strawberry', 'raspberry']\n"
          ]
        }
      ],
      "source": [
        "fruits = (\"apple\", \"banana\", \"cherry\", \"strawberry\", \"raspberry\")\n",
        "\n",
        "(green, yellow, *red) = fruits\n",
        "\n",
        "print(green)\n",
        "print(yellow)\n",
        "print(red)"
      ]
    },
    {
      "cell_type": "code",
      "execution_count": 41,
      "metadata": {},
      "outputs": [
        {
          "name": "stdout",
          "output_type": "stream",
          "text": [
            "apple\n",
            "['mango', 'papaya', 'pineapple']\n",
            "cherry\n"
          ]
        }
      ],
      "source": [
        "fruits = (\"apple\", \"mango\", \"papaya\", \"pineapple\", \"cherry\")\n",
        "\n",
        "(green, *tropic, red) = fruits\n",
        "\n",
        "print(green)\n",
        "print(tropic)\n",
        "print(red)"
      ]
    },
    {
      "cell_type": "code",
      "execution_count": 43,
      "metadata": {},
      "outputs": [
        {
          "data": {
            "text/plain": [
              "1"
            ]
          },
          "execution_count": 43,
          "metadata": {},
          "output_type": "execute_result"
        }
      ],
      "source": [
        "fruits.count('apple')"
      ]
    },
    {
      "cell_type": "code",
      "execution_count": 45,
      "metadata": {},
      "outputs": [
        {
          "name": "stdout",
          "output_type": "stream",
          "text": [
            "{False, True, 2, 'cherry', 'banana', 'apple'}\n"
          ]
        }
      ],
      "source": [
        "thisset = {\"apple\", \"banana\", \"cherry\", True, 1, 2,False,0}\n",
        "\n",
        "print(thisset)"
      ]
    },
    {
      "cell_type": "code",
      "execution_count": 46,
      "metadata": {},
      "outputs": [
        {
          "name": "stdout",
          "output_type": "stream",
          "text": [
            "{'cherry', 'pineapple', 'papaya', 'mango', 'banana', 'apple'}\n"
          ]
        }
      ],
      "source": [
        "thisset = {\"apple\", \"banana\", \"cherry\"}\n",
        "tropical = {\"pineapple\", \"mango\", \"papaya\"}\n",
        "\n",
        "thisset.update(tropical)\n",
        "\n",
        "print(thisset)"
      ]
    },
    {
      "cell_type": "code",
      "execution_count": 52,
      "metadata": {},
      "outputs": [
        {
          "name": "stdout",
          "output_type": "stream",
          "text": [
            "{'brand', 'b', 'banana', 'model', 1964, 'kiwi', 'cherry', 'Ford', 'Mustang', 'year', 'orange', 'apple', 'a'}\n"
          ]
        }
      ],
      "source": [
        "thisset = {\"apple\", \"banana\", \"cherry\"}\n",
        "mylist = [\"kiwi\", \"orange\"]\n",
        "my_tuple=('a','b')\n",
        "my_dict={\"brand\": \"Ford\",\"model\": \"Mustang\",\"year\": 1964}\n",
        "for key,value in my_dict.items():\n",
        "    thisset.update((key,value))\n",
        "thisset.update(my_tuple)\n",
        "thisset.update(mylist)\n",
        "print(thisset)"
      ]
    },
    {
      "cell_type": "code",
      "execution_count": 54,
      "metadata": {},
      "outputs": [
        {
          "name": "stdout",
          "output_type": "stream",
          "text": [
            "{1, 2, 'b', 3, 'c', 'a'}\n"
          ]
        }
      ],
      "source": [
        "set1 = {\"a\", \"b\" , \"c\"}\n",
        "set2 = {1, 2, 3,3}\n",
        "\n",
        "set3 = set1.union(set2)\n",
        "print(set3)"
      ]
    },
    {
      "cell_type": "code",
      "execution_count": 57,
      "metadata": {},
      "outputs": [
        {
          "name": "stdout",
          "output_type": "stream",
          "text": [
            "{'apple'}\n"
          ]
        }
      ],
      "source": [
        "#Keep the items that exist in both set x, and set y:\n",
        "\n",
        "x = {\"apple\", \"banana\", \"cherry\"}\n",
        "y = {\"google\", \"microsoft\", \"apple\"}\n",
        "\n",
        "x.intersection_update(y)\n",
        "\n",
        "print(x)"
      ]
    },
    {
      "cell_type": "code",
      "execution_count": 58,
      "metadata": {},
      "outputs": [
        {
          "name": "stdout",
          "output_type": "stream",
          "text": [
            "{'apple'}\n"
          ]
        }
      ],
      "source": [
        "x = {\"apple\", \"banana\", \"cherry\"}\n",
        "y = {\"google\", \"microsoft\", \"apple\"}\n",
        "\n",
        "z = x.intersection(y)\n",
        "\n",
        "print(z)"
      ]
    },
    {
      "cell_type": "code",
      "execution_count": 59,
      "metadata": {},
      "outputs": [
        {
          "name": "stdout",
          "output_type": "stream",
          "text": [
            "{'google', 'cherry', 'banana', 'microsoft'}\n"
          ]
        }
      ],
      "source": [
        "# Example\n",
        "# Keep the items that are not present in both sets:\n",
        "\n",
        "x = {\"apple\", \"banana\", \"cherry\"}\n",
        "y = {\"google\", \"microsoft\", \"apple\"}\n",
        "\n",
        "x.symmetric_difference_update(y)\n",
        "\n",
        "print(x)"
      ]
    },
    {
      "cell_type": "code",
      "execution_count": 62,
      "metadata": {},
      "outputs": [
        {
          "ename": "NameError",
          "evalue": "name 'thisdict' is not defined",
          "output_type": "error",
          "traceback": [
            "\u001b[1;31m---------------------------------------------------------------------------\u001b[0m",
            "\u001b[1;31mNameError\u001b[0m                                 Traceback (most recent call last)",
            "Cell \u001b[1;32mIn[62], line 7\u001b[0m\n\u001b[0;32m      1\u001b[0m thisdict \u001b[38;5;241m=\u001b[39m {\n\u001b[0;32m      2\u001b[0m   \u001b[38;5;124m\"\u001b[39m\u001b[38;5;124mbrand\u001b[39m\u001b[38;5;124m\"\u001b[39m: \u001b[38;5;124m\"\u001b[39m\u001b[38;5;124mFord\u001b[39m\u001b[38;5;124m\"\u001b[39m,\n\u001b[0;32m      3\u001b[0m   \u001b[38;5;124m\"\u001b[39m\u001b[38;5;124mmodel\u001b[39m\u001b[38;5;124m\"\u001b[39m: \u001b[38;5;124m\"\u001b[39m\u001b[38;5;124mMustang\u001b[39m\u001b[38;5;124m\"\u001b[39m,\n\u001b[0;32m      4\u001b[0m   \u001b[38;5;124m\"\u001b[39m\u001b[38;5;124myear\u001b[39m\u001b[38;5;124m\"\u001b[39m: \u001b[38;5;241m1964\u001b[39m\n\u001b[0;32m      5\u001b[0m }\n\u001b[0;32m      6\u001b[0m \u001b[38;5;28;01mdel\u001b[39;00m thisdict\n\u001b[1;32m----> 7\u001b[0m \u001b[38;5;28mprint\u001b[39m(\u001b[43mthisdict\u001b[49m)\n",
            "\u001b[1;31mNameError\u001b[0m: name 'thisdict' is not defined"
          ]
        }
      ],
      "source": [
        "thisdict = {\n",
        "  \"brand\": \"Ford\",\n",
        "  \"model\": \"Mustang\",\n",
        "  \"year\": 1964\n",
        "}\n",
        "del thisdict\n",
        "print(thisdict)"
      ]
    },
    {
      "cell_type": "code",
      "execution_count": 63,
      "metadata": {},
      "outputs": [
        {
          "name": "stdout",
          "output_type": "stream",
          "text": [
            "No, 'expensive' is NOT present.\n"
          ]
        }
      ],
      "source": [
        "txt = \"The best things in life are free!\"\n",
        "if \"expensive\" not in txt:\n",
        "  print(\"No, 'expensive' is NOT present.\")"
      ]
    },
    {
      "cell_type": "code",
      "execution_count": 64,
      "metadata": {},
      "outputs": [
        {
          "name": "stdout",
          "output_type": "stream",
          "text": [
            "llo\n"
          ]
        }
      ],
      "source": [
        "b = \"Hello, World!\"\n",
        "print(b[2:5])"
      ]
    },
    {
      "cell_type": "code",
      "execution_count": 65,
      "metadata": {},
      "outputs": [
        {
          "name": "stdout",
          "output_type": "stream",
          "text": [
            "Hello, World!\n"
          ]
        }
      ],
      "source": [
        "# The strip() method removes any whitespace from the beginning or the end:\n",
        "a = \" Hello, World! \"\n",
        "print(a.strip())"
      ]
    },
    {
      "cell_type": "code",
      "execution_count": 66,
      "metadata": {},
      "outputs": [
        {
          "name": "stdout",
          "output_type": "stream",
          "text": [
            "Jello, World!\n"
          ]
        }
      ],
      "source": [
        "a = \"Hello, World!\"\n",
        "print(a.replace(\"H\", \"J\"))"
      ]
    },
    {
      "cell_type": "code",
      "execution_count": 67,
      "metadata": {},
      "outputs": [
        {
          "name": "stdout",
          "output_type": "stream",
          "text": [
            "['Hello', ' World!']\n"
          ]
        }
      ],
      "source": [
        "# The split() method splits the string into substrings if it finds instances of the separator:\n",
        "a = \"Hello, World!\"\n",
        "print(a.split(\",\"))"
      ]
    },
    {
      "cell_type": "code",
      "execution_count": 68,
      "metadata": {},
      "outputs": [
        {
          "name": "stdout",
          "output_type": "stream",
          "text": [
            "My name is John, and I am 36\n"
          ]
        }
      ],
      "source": [
        "# Use the format() method to insert numbers into strings:\n",
        "age = 36\n",
        "txt = \"My name is John, and I am {}\"\n",
        "print(txt.format(age))"
      ]
    },
    {
      "cell_type": "code",
      "execution_count": 71,
      "metadata": {},
      "outputs": [
        {
          "name": "stdout",
          "output_type": "stream",
          "text": [
            "I want 3 pieces of item 567 for 49.95 dollars.\n"
          ]
        }
      ],
      "source": [
        "quantity = 3\n",
        "itemno = 567\n",
        "price = 49.95\n",
        "myorder = \"I want {} pieces of item {} for {} dollars.\"\n",
        "print(myorder.format(quantity, itemno, price))"
      ]
    },
    {
      "cell_type": "code",
      "execution_count": 72,
      "metadata": {},
      "outputs": [
        {
          "name": "stdout",
          "output_type": "stream",
          "text": [
            "I want to pay 49.95 dollars for 3 pieces of item 567.\n"
          ]
        }
      ],
      "source": [
        "quantity = 3\n",
        "itemno = 567\n",
        "price = 49.95\n",
        "myorder = \"I want to pay {2} dollars for {0} pieces of item {1}.\"\n",
        "print(myorder.format(quantity, itemno, price))"
      ]
    },
    {
      "cell_type": "code",
      "execution_count": 73,
      "metadata": {},
      "outputs": [
        {
          "data": {
            "text/plain": [
              "'We are the so-called \"Vikings\" from the north.'"
            ]
          },
          "execution_count": 73,
          "metadata": {},
          "output_type": "execute_result"
        }
      ],
      "source": [
        "txt = \"We are the so-called \\\"Vikings\\\" from the north.\"\n",
        "txt"
      ]
    },
    {
      "cell_type": "code",
      "execution_count": 16,
      "metadata": {},
      "outputs": [
        {
          "name": "stdout",
          "output_type": "stream",
          "text": [
            "[[1, 2, 3], [4, 5, 6], [7, 8, 9]]\n",
            "6\n",
            "15\n",
            "24\n",
            "[(1, 4, 7), (2, 5, 8), (3, 6, 9)]\n"
          ]
        }
      ],
      "source": [
        "A = [1,2,3]\n",
        "B = [4,5,6]\n",
        "C = [7,8,9]\n",
        "lst = [A,B,C]\n",
        "print(lst)\n",
        "sum = 0 \n",
        "k=1\n",
        "for i in lst:\n",
        "    for j in i:\n",
        "        sum+=j\n",
        "    print(sum)\n",
        "    sum = 0 \n",
        "    k+=1\n",
        "ls = list(zip(A,B,C))\n",
        "print(ls)"
      ]
    },
    {
      "cell_type": "code",
      "execution_count": 24,
      "metadata": {},
      "outputs": [
        {
          "name": "stdout",
          "output_type": "stream",
          "text": [
            "ls[0][0] = 1 ls[0][1] = 4 ls[0][2] = 7 \n",
            "ls[1][0] = 2 ls[1][1] = 5 ls[1][2] = 8 \n",
            "ls[2][0] = 3 ls[2][1] = 6 ls[2][2] = 9 \n"
          ]
        }
      ],
      "source": [
        "for i,row in enumerate(ls):\n",
        "    for j,col in enumerate(row):\n",
        "        print(f'ls[{i}][{j}] = {col}',end= ' ')\n",
        "    print()"
      ]
    },
    {
      "cell_type": "code",
      "execution_count": 5,
      "metadata": {},
      "outputs": [
        {
          "name": "stdout",
          "output_type": "stream",
          "text": [
            "Number of vowels: 18\n"
          ]
        }
      ],
      "source": [
        "str = input(\"Sentence: \")\n",
        "vowels = ['a', 'e', 'i', 'o', 'u']\n",
        "count = 0 \n",
        "for char in str.lower():\n",
        "    if char not in vowels:\n",
        "        count += 1\n",
        "print(\"Number of vowels:\", count)"
      ]
    },
    {
      "cell_type": "code",
      "execution_count": 8,
      "metadata": {},
      "outputs": [
        {
          "data": {
            "text/plain": [
              "[1, 2, 3, 2]"
            ]
          },
          "execution_count": 8,
          "metadata": {},
          "output_type": "execute_result"
        }
      ],
      "source": [
        "numbers = [1,2,3]\n",
        "numbers.extend([2])\n",
        "numbers"
      ]
    },
    {
      "cell_type": "code",
      "execution_count": 19,
      "metadata": {},
      "outputs": [
        {
          "name": "stdout",
          "output_type": "stream",
          "text": [
            "No\n"
          ]
        }
      ],
      "source": [
        "p = input()\n",
        "c1 = 0\n",
        "c2 = 0\n",
        "c3 = 0\n",
        "c4 = 0\n",
        "\n",
        "if not (6 < len(p) < 16):\n",
        "    print(\"No\")\n",
        "else:\n",
        "    for ch in p:\n",
        "        if ch.islower():\n",
        "            c1 += 1\n",
        "        elif ch.isupper():\n",
        "            c2 += 1\n",
        "        elif ch.isdigit():\n",
        "            c3 += 1\n",
        "        elif ch in ('@', '#', '$'):\n",
        "            c4 += 1\n",
        "\n",
        "    if c1 > 0 and c2 > 0 and c3 > 0 and c4 > 0:\n",
        "        print(\"Yes\")\n",
        "    else:\n",
        "        print(\"No\")\n"
      ]
    },
    {
      "cell_type": "code",
      "execution_count": 17,
      "metadata": {},
      "outputs": [
        {
          "name": "stdout",
          "output_type": "stream",
          "text": [
            "No\n"
          ]
        }
      ],
      "source": [
        "n = 4\n",
        "if 6 < n < 16:\n",
        "    print(\"Yes\")\n",
        "else:\n",
        "    print(\"No\")\n"
      ]
    },
    {
      "cell_type": "code",
      "execution_count": null,
      "metadata": {},
      "outputs": [],
      "source": []
    }
  ],
  "metadata": {
    "accelerator": "GPU",
    "colab": {
      "gpuType": "T4",
      "provenance": []
    },
    "kernelspec": {
      "display_name": "Python 3",
      "name": "python3"
    },
    "language_info": {
      "codemirror_mode": {
        "name": "ipython",
        "version": 3
      },
      "file_extension": ".py",
      "mimetype": "text/x-python",
      "name": "python",
      "nbconvert_exporter": "python",
      "pygments_lexer": "ipython3",
      "version": "3.12.0"
    }
  },
  "nbformat": 4,
  "nbformat_minor": 0
}
